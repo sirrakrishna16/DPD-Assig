{
 "cells": [
  {
   "cell_type": "code",
   "execution_count": 5,
   "id": "03c788b8",
   "metadata": {},
   "outputs": [],
   "source": [
    "#importing all libraries "
   ]
  },
  {
   "cell_type": "code",
   "execution_count": 8,
   "id": "a009cf04",
   "metadata": {},
   "outputs": [
    {
     "name": "stdout",
     "output_type": "stream",
     "text": [
      "Acct_Number Credit_gurantaor  Account_type Date_Reported Ownership_ind Account_Status Disbursed_Amount Disbursed_Date Last_payment_date Closed_date Overdue_amt Write_off_amt Current_Balance Security_Status                                                                                                                                                                                                                                                                                                            Combined_Payment_History Matched_type Actual_payment Overdue_Amount Last_Payment_Date\n",
      "       XXXX             XXXX Personal Loan    28-02-2019    Individual         Closed            3,500     03-12-2018        19-07-2017          []          []             0               0         Secured                                                                                                                                                                                                                              Jul:2017,000/XXX|Jun:2017,000/STD|May:2017,000/STD|Apr:2017,000/STD|Mar:2017,000/STD|Feb:2017,000/STD|      PRIMARY         40,006             []        19-07-2017\n",
      "       XXXX             XXXX     Gold Loan    31-03-2017    Individual         Closed           30,551     24-10-2016        02-03-2017          []          []             0               0         Secured                                                                                                                                                                                                                                               Mar:2017,000/XXX|Feb:2017,XXX/XXX|Jan:2017,XXX/XXX|Dec:2016,XXX/XXX|Nov:2016,XXX/XXX|      PRIMARY         40,006             []        02-03-2017\n",
      "       XXXX             XXXX     Gold Loan    31-10-2017    Individual         Closed           46,000     30-07-2016        02-03-2017          []          []             0               0         Secured                                                                                                                                                                                                                                               Mar:2017,000/XXX|Feb:2017,XXX/XXX|Jan:2017,XXX/XXX|Dec:2016,XXX/XXX|Nov:2016,XXX/XXX|      PRIMARY         40,006             []        02-03-2017\n",
      "       XXXX             XXXX     Gold Loan    31-10-2017    Individual         Closed           91,000     30-07-2016        02-03-2017          []          []             0               0         Secured                                                                                                                                                                                                                                               Mar:2017,000/XXX|Feb:2017,XXX/XXX|Jan:2017,XXX/XXX|Dec:2016,XXX/XXX|Nov:2016,XXX/XXX|      PRIMARY         40,006             []        02-03-2017\n",
      "       XXXX             XXXX         Other    28-02-2019    Individual         Active            1,799     20-08-2017        07-12-2017        None          []             0               0      Un-secured Feb:2019,000/XXX|Jan:2019,000/XXX|Dec:2018,000/XXX|Nov:2018,000/XXX|Oct:2018,000/XXX|Sep:2018,000/XXX|Aug:2018,000/XXX|Jul:2018,000/XXX|Jun:2018,000/XXX|May:2018,000/XXX|Apr:2018,000/XXX|Mar:2018,000/XXX|Feb:2018,000/XXX|Jan:2018,000/XXX|Dec:2017,000/XXX|Nov:2017,000/XXX|Oct:2017,000/XXX|Sep:2017,000/XXX|Aug:2017,000/XXX|      PRIMARY         40,006             []        07-12-2017\n",
      "       XXXX             XXXX Personal Loan    28-02-2019    Individual         Closed            3,500     28-11-2018        07-12-2017        None          []             0               0      Un-secured Feb:2019,000/XXX|Jan:2019,000/XXX|Dec:2018,000/XXX|Nov:2018,000/XXX|Oct:2018,000/XXX|Sep:2018,000/XXX|Aug:2018,000/XXX|Jul:2018,000/XXX|Jun:2018,000/XXX|May:2018,000/XXX|Apr:2018,000/XXX|Mar:2018,000/XXX|Feb:2018,000/XXX|Jan:2018,000/XXX|Dec:2017,000/XXX|Nov:2017,000/XXX|Oct:2017,000/XXX|Sep:2017,000/XXX|Aug:2017,000/XXX|      PRIMARY         40,006             []        07-12-2017\n",
      "       XXXX             XXXX     Gold Loan    28-02-2014    Individual         Closed         1,14,000     13-05-2013        07-12-2017        None          []             0               0      Un-secured Feb:2019,000/XXX|Jan:2019,000/XXX|Dec:2018,000/XXX|Nov:2018,000/XXX|Oct:2018,000/XXX|Sep:2018,000/XXX|Aug:2018,000/XXX|Jul:2018,000/XXX|Jun:2018,000/XXX|May:2018,000/XXX|Apr:2018,000/XXX|Mar:2018,000/XXX|Feb:2018,000/XXX|Jan:2018,000/XXX|Dec:2017,000/XXX|Nov:2017,000/XXX|Oct:2017,000/XXX|Sep:2017,000/XXX|Aug:2017,000/XXX|      PRIMARY         40,006             []        07-12-2017\n",
      "       XXXX             XXXX         Other    28-02-2019    Individual         Active            1,979     10-11-2018        02-02-2019        None          []             0             989      Un-secured                                                                                                                                                                                                                                                                Feb:2019,000/XXX|Jan:2019,000/XXX|Dec:2018,000/XXX|Nov:2018,000/XXX|      PRIMARY         40,006             []        02-02-2019\n",
      "       XXXX             XXXX     Gold Loan    31-07-2016    Individual         Closed           39,000     16-06-2015        17-06-2015          []        None             0               0         Secured                                                                                      Jul:2016,XXX/STD|Jun:2016,031/STD|May:2016,001/STD|Apr:2016,000/STD|Mar:2016,000/STD|Feb:2016,000/STD|Jan:2016,000/STD|Dec:2015,000/STD|Nov:2015,000/STD|Oct:2015,000/STD|Sep:2015,000/STD|Aug:2015,000/STD|Jul:2015,000/STD|Jun:2015,000/STD|      PRIMARY         40,006           None        17-06-2015\n",
      "       XXXX             XXXX Personal Loan    28-02-2019    Individual         Closed            3,500     19-12-2018        17-06-2015          []        None             0               0         Secured                                                                                      Jul:2016,XXX/STD|Jun:2016,031/STD|May:2016,001/STD|Apr:2016,000/STD|Mar:2016,000/STD|Feb:2016,000/STD|Jan:2016,000/STD|Dec:2015,000/STD|Nov:2015,000/STD|Oct:2015,000/STD|Sep:2015,000/STD|Aug:2015,000/STD|Jul:2015,000/STD|Jun:2015,000/STD|      PRIMARY         40,006           None        17-06-2015\n",
      "       XXXX             XXXX Personal Loan    28-02-2019    Individual         Closed            3,500     07-12-2018        17-06-2015          []        None             0               0         Secured                                                                                      Jul:2016,XXX/STD|Jun:2016,031/STD|May:2016,001/STD|Apr:2016,000/STD|Mar:2016,000/STD|Feb:2016,000/STD|Jan:2016,000/STD|Dec:2015,000/STD|Nov:2015,000/STD|Oct:2015,000/STD|Sep:2015,000/STD|Aug:2015,000/STD|Jul:2015,000/STD|Jun:2015,000/STD|      PRIMARY         40,006           None        17-06-2015\n",
      "       XXXX             XXXX     Gold Loan    31-07-2017    Individual         Closed           30,200     02-03-2017        18-07-2017          []          []             0               0         Secured                                                                                                                                                                                                                                                                Jul:2017,000/XXX|Jun:2017,000/STD|May:2017,000/STD|Apr:2017,XXX/XXX|      PRIMARY         40,006             []        18-07-2017\n",
      "       XXXX             XXXX Consumer Loan    28-02-2019    Individual         Closed           37,999     15-11-2018        24-02-2019          []          []             0               0      Un-secured                                                                                                                                                                                                                                                                Feb:2019,000/XXX|Jan:2019,000/XXX|Dec:2018,000/XXX|Nov:2018,000/XXX|      PRIMARY         40,006             []        24-02-2019\n",
      "       XXXX             XXXX Personal Loan    28-02-2019    Individual         Active            5,000     25-01-2019        24-02-2019          []          []             0               0      Un-secured                                                                                                                                                                                                                                                                Feb:2019,000/XXX|Jan:2019,000/XXX|Dec:2018,000/XXX|Nov:2018,000/XXX|      PRIMARY         40,006             []        24-02-2019\n",
      "       XXXX             XXXX Consumer Loan    31-10-2018    Individual         Active            9,484     13-08-2018        24-02-2019          []          []             0               0      Un-secured                                                                                                                                                                                                                                                                Feb:2019,000/XXX|Jan:2019,000/XXX|Dec:2018,000/XXX|Nov:2018,000/XXX|      PRIMARY         40,006             []        24-02-2019\n",
      "       XXXX             XXXX     Gold Loan    29-02-2016    Individual         Closed            9,000     06-05-2015        03-02-2016          []          []             0               0         Secured                                                                                                                                                                           Feb:2016,000/XXX|Jan:2016,XXX/XXX|Dec:2015,XXX/XXX|Nov:2015,XXX/XXX|Oct:2015,XXX/XXX|Sep:2015,XXX/XXX|Aug:2015,XXX/XXX|Jul:2015,XXX/XXX|Jun:2015,XXX/XXX|      PRIMARY         40,006             []        03-02-2016\n",
      "       XXXX             XXXX Consumer Loan    28-02-2019    Individual         Active           16,500     20-08-2017        28-11-2018        None          []             0               0      Un-secured                  Feb:2019,000/XXX|Jan:2019,000/XXX|Dec:2018,000/XXX|Nov:2018,000/XXX|Oct:2018,000/XXX|Sep:2018,000/XXX|Aug:2018,000/XXX|Jul:2018,000/XXX|Jun:2018,000/XXX|May:2018,000/XXX|Apr:2018,000/XXX|Mar:2018,000/XXX|Feb:2018,000/XXX|Jan:2018,000/XXX|Dec:2017,000/XXX|Nov:2017,000/XXX|Oct:2017,000/XXX|Sep:2017,000/XXX|      PRIMARY         40,006             []        28-11-2018\n",
      "       XXXX             XXXX     Gold Loan    31-01-2018    Individual         Closed           29,575     18-07-2017        30-01-2018          []          []             0               0         Secured                                                                                                                                                                                                             Jan:2018,000/XXX|Dec:2017,077/XXX|Nov:2017,000/STD|Oct:2017,000/STD|Sep:2017,000/STD|Aug:2017,000/STD|Jul:2017,000/STD|      PRIMARY         40,006             []        30-01-2018\n",
      "       XXXX             XXXX Personal Loan    31-01-2019    Individual         Closed            5,000     14-01-2019        25-01-2019          []          []             0               0      Un-secured                                                                                                                                                                                                                                                                                                                   Jan:2019,000/STD|      PRIMARY         40,006             []        25-01-2019\n",
      "       XXXX             XXXX Personal Loan    28-02-2019    Individual         Closed            3,500     18-11-2018        25-01-2019          []          []             0               0      Un-secured                                                                                                                                                                                                                                                                                                                   Jan:2019,000/STD|      PRIMARY         40,006             []        25-01-2019\n",
      "       XXXX             XXXX     Gold Loan    30-06-2016    Individual         Closed            8,800     03-02-2016        06-06-2016          []          []             0               0         Secured                                                                                                                                                                                                                                                                Jun:2016,000/XXX|May:2016,XXX/XXX|Apr:2016,XXX/XXX|Mar:2016,XXX/XXX|      PRIMARY         40,006             []        06-06-2016\n",
      "       XXXX             XXXX     Gold Loan    31-07-2016    Individual         Closed           80,000     22-06-2015        22-06-2015          []        None             0               0         Secured                                                                                      Jul:2016,XXX/STD|Jun:2016,031/STD|May:2016,001/STD|Apr:2016,000/STD|Mar:2016,000/STD|Feb:2016,000/STD|Jan:2016,000/STD|Dec:2015,000/STD|Nov:2015,000/STD|Oct:2015,000/STD|Sep:2015,000/STD|Aug:2015,000/STD|Jul:2015,000/STD|Jun:2015,000/STD|      PRIMARY         40,006           None        22-06-2015\n",
      "       XXXX             XXXX Consumer Loan    28-02-2019    Individual         Closed           24,240     24-10-2017        02-08-2018          []          []             0               0      Un-secured                                                                                                                        Sep:2018,000/XXX|Aug:2018,000/XXX|Jul:2018,000/XXX|Jun:2018,000/XXX|May:2018,000/XXX|Apr:2018,000/XXX|Mar:2018,000/XXX|Feb:2018,000/XXX|Jan:2018,000/XXX|Dec:2017,000/XXX|Nov:2017,000/XXX|Oct:2017,000/XXX|      PRIMARY         40,006             []        02-08-2018\n",
      "       XXXX             XXXX Personal Loan    28-02-2019    Individual         Active            5,000     05-02-2019        02-08-2018          []          []             0               0      Un-secured                                                                                                                        Sep:2018,000/XXX|Aug:2018,000/XXX|Jul:2018,000/XXX|Jun:2018,000/XXX|May:2018,000/XXX|Apr:2018,000/XXX|Mar:2018,000/XXX|Feb:2018,000/XXX|Jan:2018,000/XXX|Dec:2017,000/XXX|Nov:2017,000/XXX|Oct:2017,000/XXX|      PRIMARY         40,006             []        02-08-2018\n",
      "       XXXX             XXXX Personal Loan    28-02-2019    Individual         Active           12,661     24-02-2019        02-08-2018          []          []             0               0      Un-secured                                                                                                                        Sep:2018,000/XXX|Aug:2018,000/XXX|Jul:2018,000/XXX|Jun:2018,000/XXX|May:2018,000/XXX|Apr:2018,000/XXX|Mar:2018,000/XXX|Feb:2018,000/XXX|Jan:2018,000/XXX|Dec:2017,000/XXX|Nov:2017,000/XXX|Oct:2017,000/XXX|      PRIMARY         40,006             []        02-08-2018\n",
      "       XXXX             XXXX Consumer Loan    28-02-2019    Individual         Active           11,999     14-10-2018        02-02-2019        None          []             0           3,999      Un-secured                                                                                                                                                                                                                                               Feb:2019,000/XXX|Jan:2019,000/XXX|Dec:2018,000/XXX|Nov:2018,000/XXX|Oct:2018,000/XXX|      PRIMARY         40,006             []        02-02-2019\n",
      "       XXXX             XXXX     Gold Loan    31-10-2016    Individual         Closed           30,552     06-06-2016        24-10-2016          []          []             0               0         Secured                                                                                                                                                                                                                                                                Oct:2016,000/XXX|Sep:2016,XXX/XXX|Aug:2016,XXX/XXX|Jul:2016,XXX/XXX|      PRIMARY         40,006             []        24-10-2016\n",
      "       XXXX             XXXX Consumer Loan    31-10-2018    Individual         Active            4,000     29-09-2018        30-10-2018        None          []             0           3,728      Un-secured                                                                                                                                                                                                                                                                                                  Oct:2018,XXX/STD|Sep:2018,XXX/STD|      PRIMARY         40,006             []        30-10-2018\n",
      "       XXXX             XXXX Consumer Loan    28-02-2019    Individual         Closed           25,000     19-04-2017        02-01-2018          []          []             0               0      Un-secured                                   Aug:2018,000/XXX|Jul:2018,000/XXX|Jun:2018,000/XXX|May:2018,000/XXX|Apr:2018,000/XXX|Mar:2018,000/XXX|Feb:2018,000/XXX|Jan:2018,000/XXX|Dec:2017,000/XXX|Nov:2017,000/XXX|Oct:2017,000/XXX|Sep:2017,000/XXX|Aug:2017,000/XXX|Jul:2017,000/XXX|Jun:2017,000/XXX|May:2017,000/XXX|Apr:2017,000/XXX|      PRIMARY         40,006             []        02-01-2018\n",
      "       XXXX             XXXX Personal Loan    28-02-2019    Individual         Closed            5,000     30-12-2018        02-01-2018          []          []             0               0      Un-secured                                   Aug:2018,000/XXX|Jul:2018,000/XXX|Jun:2018,000/XXX|May:2018,000/XXX|Apr:2018,000/XXX|Mar:2018,000/XXX|Feb:2018,000/XXX|Jan:2018,000/XXX|Dec:2017,000/XXX|Nov:2017,000/XXX|Oct:2017,000/XXX|Sep:2017,000/XXX|Aug:2017,000/XXX|Jul:2017,000/XXX|Jun:2017,000/XXX|May:2017,000/XXX|Apr:2017,000/XXX|      PRIMARY         40,006             []        02-01-2018\n"
     ]
    }
   ],
   "source": [
    "\n",
    "import xml.etree.ElementTree as ETree\n",
    "import pandas as pd\n",
    "  \n",
    "\n",
    "\n",
    "xmldata = r'C:\\Users\\ACER\\Downloads\\Coding_data\\Coding_data\\customer5.xml'  # give the path where you saved the xml file\n",
    "prstree = ETree.parse(xmldata)\n",
    "root = prstree.getroot()\n",
    "\n",
    "\n",
    "store_items = []\n",
    "all_items = []\n",
    "  \n",
    "for storeno in root.iter('LOAN-DETAILS'):\n",
    "    try:\n",
    "        acct_number = storeno.find('ACCT-NUMBER').text\n",
    "        credit_gurantaor = storeno.find('CREDIT-GUARANTOR').text\n",
    "        account_type = storeno.find('ACCT-TYPE').text\n",
    "        date_reported = storeno.find('DATE-REPORTED').text\n",
    "        ownership_ind = storeno.find('OWNERSHIP-IND').text\n",
    "        account_status = storeno.find('ACCOUNT-STATUS').text\n",
    "        disbursed_amt = storeno.find('DISBURSED-AMT').text\n",
    "        disbursed_date = storeno.find('DISBURSED-DATE').text\n",
    "        last_payment_date = storeno.find('LAST-PAYMENT-DATE').text\n",
    "        closed_date = storeno.find('CLOSED-DATE')\n",
    "        overdue_amt = storeno.find('OVERDUE-AMT')\n",
    "        write_off_amt = storeno.find('WRITE-OFF-AMT').text\n",
    "        current_bal = storeno.find('CURRENT-BAL').text\n",
    "        security_status = storeno.find('SECURITY-STATUS').text\n",
    "        combined = storeno.find('COMBINED-PAYMENT-HISTORY').text\n",
    "        matched_type = storeno.find('MATCHED-TYPE').text\n",
    "        actual_payment = storeno.find('ACTUAL-PAYMENT').text\n",
    "        overdue_amt = storeno.find('OVERDUE-AMT').text\n",
    "        last_payment_date = storeno.find('LAST-PAYMENT-DATE').text\n",
    "       \n",
    "    except:\n",
    "        None\n",
    "        store_items = [acct_number, credit_gurantaor,account_type, date_reported,  ownership_ind, account_status,disbursed_amt,disbursed_date,last_payment_date,closed_date,overdue_amt, write_off_amt,current_bal, security_status,combined,matched_type,actual_payment,overdue_amt,last_payment_date]\n",
    "        all_items.append(store_items)\n",
    "    \n",
    "xmlToDf = pd.DataFrame(all_items, columns=[\n",
    "  'Acct_Number','Credit_gurantaor','Account_type', 'Date_Reported', 'Ownership_ind', 'Account_Status','Disbursed_Amount','Disbursed_Date','Last_payment_date','Closed_date','Overdue_amt','Write_off_amt','Current_Balance','Security_Status','Combined_Payment_History','Matched_type','Actual_payment','Overdue_Amount','Last_Payment_Date'])\n",
    "  \n",
    "print(xmlToDf.to_string(index=False))"
   ]
  },
  {
   "cell_type": "code",
   "execution_count": 8,
   "id": "b87d2267",
   "metadata": {},
   "outputs": [
    {
     "name": "stdout",
     "output_type": "stream",
     "text": [
      "Acct_Number Credit_gurantaor  Account_type Date_Reported Ownership_ind Account_Status Disbursed_Amount Disbursed_Date Last_payment_date Closed_date Overdue_amt Write_off_amt Current_Balance Security_Status                                                                                                                                                                                                                                                                                                            Combined_Payment_History Matched_type Actual_payment Overdue_Amount Last_Payment_Date\n",
      "       XXXX             XXXX Personal Loan    28-02-2019    Individual         Closed            3,500     03-12-2018        19-07-2017          []          []             0               0         Secured                                                                                                                                                                                                                              Jul:2017,000/XXX|Jun:2017,000/STD|May:2017,000/STD|Apr:2017,000/STD|Mar:2017,000/STD|Feb:2017,000/STD|      PRIMARY         40,006             []        19-07-2017\n",
      "       XXXX             XXXX     Gold Loan    31-03-2017    Individual         Closed           30,551     24-10-2016        02-03-2017          []          []             0               0         Secured                                                                                                                                                                                                                                               Mar:2017,000/XXX|Feb:2017,XXX/XXX|Jan:2017,XXX/XXX|Dec:2016,XXX/XXX|Nov:2016,XXX/XXX|      PRIMARY         40,006             []        02-03-2017\n",
      "       XXXX             XXXX     Gold Loan    31-10-2017    Individual         Closed           46,000     30-07-2016        02-03-2017          []          []             0               0         Secured                                                                                                                                                                                                                                               Mar:2017,000/XXX|Feb:2017,XXX/XXX|Jan:2017,XXX/XXX|Dec:2016,XXX/XXX|Nov:2016,XXX/XXX|      PRIMARY         40,006             []        02-03-2017\n",
      "       XXXX             XXXX     Gold Loan    31-10-2017    Individual         Closed           91,000     30-07-2016        02-03-2017          []          []             0               0         Secured                                                                                                                                                                                                                                               Mar:2017,000/XXX|Feb:2017,XXX/XXX|Jan:2017,XXX/XXX|Dec:2016,XXX/XXX|Nov:2016,XXX/XXX|      PRIMARY         40,006             []        02-03-2017\n",
      "       XXXX             XXXX         Other    28-02-2019    Individual         Active            1,799     20-08-2017        07-12-2017        None          []             0               0      Un-secured Feb:2019,000/XXX|Jan:2019,000/XXX|Dec:2018,000/XXX|Nov:2018,000/XXX|Oct:2018,000/XXX|Sep:2018,000/XXX|Aug:2018,000/XXX|Jul:2018,000/XXX|Jun:2018,000/XXX|May:2018,000/XXX|Apr:2018,000/XXX|Mar:2018,000/XXX|Feb:2018,000/XXX|Jan:2018,000/XXX|Dec:2017,000/XXX|Nov:2017,000/XXX|Oct:2017,000/XXX|Sep:2017,000/XXX|Aug:2017,000/XXX|      PRIMARY         40,006             []        07-12-2017\n",
      "       XXXX             XXXX Personal Loan    28-02-2019    Individual         Closed            3,500     28-11-2018        07-12-2017        None          []             0               0      Un-secured Feb:2019,000/XXX|Jan:2019,000/XXX|Dec:2018,000/XXX|Nov:2018,000/XXX|Oct:2018,000/XXX|Sep:2018,000/XXX|Aug:2018,000/XXX|Jul:2018,000/XXX|Jun:2018,000/XXX|May:2018,000/XXX|Apr:2018,000/XXX|Mar:2018,000/XXX|Feb:2018,000/XXX|Jan:2018,000/XXX|Dec:2017,000/XXX|Nov:2017,000/XXX|Oct:2017,000/XXX|Sep:2017,000/XXX|Aug:2017,000/XXX|      PRIMARY         40,006             []        07-12-2017\n",
      "       XXXX             XXXX     Gold Loan    28-02-2014    Individual         Closed         1,14,000     13-05-2013        07-12-2017        None          []             0               0      Un-secured Feb:2019,000/XXX|Jan:2019,000/XXX|Dec:2018,000/XXX|Nov:2018,000/XXX|Oct:2018,000/XXX|Sep:2018,000/XXX|Aug:2018,000/XXX|Jul:2018,000/XXX|Jun:2018,000/XXX|May:2018,000/XXX|Apr:2018,000/XXX|Mar:2018,000/XXX|Feb:2018,000/XXX|Jan:2018,000/XXX|Dec:2017,000/XXX|Nov:2017,000/XXX|Oct:2017,000/XXX|Sep:2017,000/XXX|Aug:2017,000/XXX|      PRIMARY         40,006             []        07-12-2017\n",
      "       XXXX             XXXX         Other    28-02-2019    Individual         Active            1,979     10-11-2018        02-02-2019        None          []             0             989      Un-secured                                                                                                                                                                                                                                                                Feb:2019,000/XXX|Jan:2019,000/XXX|Dec:2018,000/XXX|Nov:2018,000/XXX|      PRIMARY         40,006             []        02-02-2019\n",
      "       XXXX             XXXX     Gold Loan    31-07-2016    Individual         Closed           39,000     16-06-2015        17-06-2015          []        None             0               0         Secured                                                                                      Jul:2016,XXX/STD|Jun:2016,031/STD|May:2016,001/STD|Apr:2016,000/STD|Mar:2016,000/STD|Feb:2016,000/STD|Jan:2016,000/STD|Dec:2015,000/STD|Nov:2015,000/STD|Oct:2015,000/STD|Sep:2015,000/STD|Aug:2015,000/STD|Jul:2015,000/STD|Jun:2015,000/STD|      PRIMARY         40,006           None        17-06-2015\n",
      "       XXXX             XXXX Personal Loan    28-02-2019    Individual         Closed            3,500     19-12-2018        17-06-2015          []        None             0               0         Secured                                                                                      Jul:2016,XXX/STD|Jun:2016,031/STD|May:2016,001/STD|Apr:2016,000/STD|Mar:2016,000/STD|Feb:2016,000/STD|Jan:2016,000/STD|Dec:2015,000/STD|Nov:2015,000/STD|Oct:2015,000/STD|Sep:2015,000/STD|Aug:2015,000/STD|Jul:2015,000/STD|Jun:2015,000/STD|      PRIMARY         40,006           None        17-06-2015\n",
      "       XXXX             XXXX Personal Loan    28-02-2019    Individual         Closed            3,500     07-12-2018        17-06-2015          []        None             0               0         Secured                                                                                      Jul:2016,XXX/STD|Jun:2016,031/STD|May:2016,001/STD|Apr:2016,000/STD|Mar:2016,000/STD|Feb:2016,000/STD|Jan:2016,000/STD|Dec:2015,000/STD|Nov:2015,000/STD|Oct:2015,000/STD|Sep:2015,000/STD|Aug:2015,000/STD|Jul:2015,000/STD|Jun:2015,000/STD|      PRIMARY         40,006           None        17-06-2015\n",
      "       XXXX             XXXX     Gold Loan    31-07-2017    Individual         Closed           30,200     02-03-2017        18-07-2017          []          []             0               0         Secured                                                                                                                                                                                                                                                                Jul:2017,000/XXX|Jun:2017,000/STD|May:2017,000/STD|Apr:2017,XXX/XXX|      PRIMARY         40,006             []        18-07-2017\n",
      "       XXXX             XXXX Consumer Loan    28-02-2019    Individual         Closed           37,999     15-11-2018        24-02-2019          []          []             0               0      Un-secured                                                                                                                                                                                                                                                                Feb:2019,000/XXX|Jan:2019,000/XXX|Dec:2018,000/XXX|Nov:2018,000/XXX|      PRIMARY         40,006             []        24-02-2019\n",
      "       XXXX             XXXX Personal Loan    28-02-2019    Individual         Active            5,000     25-01-2019        24-02-2019          []          []             0               0      Un-secured                                                                                                                                                                                                                                                                Feb:2019,000/XXX|Jan:2019,000/XXX|Dec:2018,000/XXX|Nov:2018,000/XXX|      PRIMARY         40,006             []        24-02-2019\n",
      "       XXXX             XXXX Consumer Loan    31-10-2018    Individual         Active            9,484     13-08-2018        24-02-2019          []          []             0               0      Un-secured                                                                                                                                                                                                                                                                Feb:2019,000/XXX|Jan:2019,000/XXX|Dec:2018,000/XXX|Nov:2018,000/XXX|      PRIMARY         40,006             []        24-02-2019\n",
      "       XXXX             XXXX     Gold Loan    29-02-2016    Individual         Closed            9,000     06-05-2015        03-02-2016          []          []             0               0         Secured                                                                                                                                                                           Feb:2016,000/XXX|Jan:2016,XXX/XXX|Dec:2015,XXX/XXX|Nov:2015,XXX/XXX|Oct:2015,XXX/XXX|Sep:2015,XXX/XXX|Aug:2015,XXX/XXX|Jul:2015,XXX/XXX|Jun:2015,XXX/XXX|      PRIMARY         40,006             []        03-02-2016\n",
      "       XXXX             XXXX Consumer Loan    28-02-2019    Individual         Active           16,500     20-08-2017        28-11-2018        None          []             0               0      Un-secured                  Feb:2019,000/XXX|Jan:2019,000/XXX|Dec:2018,000/XXX|Nov:2018,000/XXX|Oct:2018,000/XXX|Sep:2018,000/XXX|Aug:2018,000/XXX|Jul:2018,000/XXX|Jun:2018,000/XXX|May:2018,000/XXX|Apr:2018,000/XXX|Mar:2018,000/XXX|Feb:2018,000/XXX|Jan:2018,000/XXX|Dec:2017,000/XXX|Nov:2017,000/XXX|Oct:2017,000/XXX|Sep:2017,000/XXX|      PRIMARY         40,006             []        28-11-2018\n",
      "       XXXX             XXXX     Gold Loan    31-01-2018    Individual         Closed           29,575     18-07-2017        30-01-2018          []          []             0               0         Secured                                                                                                                                                                                                             Jan:2018,000/XXX|Dec:2017,077/XXX|Nov:2017,000/STD|Oct:2017,000/STD|Sep:2017,000/STD|Aug:2017,000/STD|Jul:2017,000/STD|      PRIMARY         40,006             []        30-01-2018\n",
      "       XXXX             XXXX Personal Loan    31-01-2019    Individual         Closed            5,000     14-01-2019        25-01-2019          []          []             0               0      Un-secured                                                                                                                                                                                                                                                                                                                   Jan:2019,000/STD|      PRIMARY         40,006             []        25-01-2019\n",
      "       XXXX             XXXX Personal Loan    28-02-2019    Individual         Closed            3,500     18-11-2018        25-01-2019          []          []             0               0      Un-secured                                                                                                                                                                                                                                                                                                                   Jan:2019,000/STD|      PRIMARY         40,006             []        25-01-2019\n",
      "       XXXX             XXXX     Gold Loan    30-06-2016    Individual         Closed            8,800     03-02-2016        06-06-2016          []          []             0               0         Secured                                                                                                                                                                                                                                                                Jun:2016,000/XXX|May:2016,XXX/XXX|Apr:2016,XXX/XXX|Mar:2016,XXX/XXX|      PRIMARY         40,006             []        06-06-2016\n",
      "       XXXX             XXXX     Gold Loan    31-07-2016    Individual         Closed           80,000     22-06-2015        22-06-2015          []        None             0               0         Secured                                                                                      Jul:2016,XXX/STD|Jun:2016,031/STD|May:2016,001/STD|Apr:2016,000/STD|Mar:2016,000/STD|Feb:2016,000/STD|Jan:2016,000/STD|Dec:2015,000/STD|Nov:2015,000/STD|Oct:2015,000/STD|Sep:2015,000/STD|Aug:2015,000/STD|Jul:2015,000/STD|Jun:2015,000/STD|      PRIMARY         40,006           None        22-06-2015\n",
      "       XXXX             XXXX Consumer Loan    28-02-2019    Individual         Closed           24,240     24-10-2017        02-08-2018          []          []             0               0      Un-secured                                                                                                                        Sep:2018,000/XXX|Aug:2018,000/XXX|Jul:2018,000/XXX|Jun:2018,000/XXX|May:2018,000/XXX|Apr:2018,000/XXX|Mar:2018,000/XXX|Feb:2018,000/XXX|Jan:2018,000/XXX|Dec:2017,000/XXX|Nov:2017,000/XXX|Oct:2017,000/XXX|      PRIMARY         40,006             []        02-08-2018\n",
      "       XXXX             XXXX Personal Loan    28-02-2019    Individual         Active            5,000     05-02-2019        02-08-2018          []          []             0               0      Un-secured                                                                                                                        Sep:2018,000/XXX|Aug:2018,000/XXX|Jul:2018,000/XXX|Jun:2018,000/XXX|May:2018,000/XXX|Apr:2018,000/XXX|Mar:2018,000/XXX|Feb:2018,000/XXX|Jan:2018,000/XXX|Dec:2017,000/XXX|Nov:2017,000/XXX|Oct:2017,000/XXX|      PRIMARY         40,006             []        02-08-2018\n",
      "       XXXX             XXXX Personal Loan    28-02-2019    Individual         Active           12,661     24-02-2019        02-08-2018          []          []             0               0      Un-secured                                                                                                                        Sep:2018,000/XXX|Aug:2018,000/XXX|Jul:2018,000/XXX|Jun:2018,000/XXX|May:2018,000/XXX|Apr:2018,000/XXX|Mar:2018,000/XXX|Feb:2018,000/XXX|Jan:2018,000/XXX|Dec:2017,000/XXX|Nov:2017,000/XXX|Oct:2017,000/XXX|      PRIMARY         40,006             []        02-08-2018\n",
      "       XXXX             XXXX Consumer Loan    28-02-2019    Individual         Active           11,999     14-10-2018        02-02-2019        None          []             0           3,999      Un-secured                                                                                                                                                                                                                                               Feb:2019,000/XXX|Jan:2019,000/XXX|Dec:2018,000/XXX|Nov:2018,000/XXX|Oct:2018,000/XXX|      PRIMARY         40,006             []        02-02-2019\n",
      "       XXXX             XXXX     Gold Loan    31-10-2016    Individual         Closed           30,552     06-06-2016        24-10-2016          []          []             0               0         Secured                                                                                                                                                                                                                                                                Oct:2016,000/XXX|Sep:2016,XXX/XXX|Aug:2016,XXX/XXX|Jul:2016,XXX/XXX|      PRIMARY         40,006             []        24-10-2016\n",
      "       XXXX             XXXX Consumer Loan    31-10-2018    Individual         Active            4,000     29-09-2018        30-10-2018        None          []             0           3,728      Un-secured                                                                                                                                                                                                                                                                                                  Oct:2018,XXX/STD|Sep:2018,XXX/STD|      PRIMARY         40,006             []        30-10-2018\n",
      "       XXXX             XXXX Consumer Loan    28-02-2019    Individual         Closed           25,000     19-04-2017        02-01-2018          []          []             0               0      Un-secured                                   Aug:2018,000/XXX|Jul:2018,000/XXX|Jun:2018,000/XXX|May:2018,000/XXX|Apr:2018,000/XXX|Mar:2018,000/XXX|Feb:2018,000/XXX|Jan:2018,000/XXX|Dec:2017,000/XXX|Nov:2017,000/XXX|Oct:2017,000/XXX|Sep:2017,000/XXX|Aug:2017,000/XXX|Jul:2017,000/XXX|Jun:2017,000/XXX|May:2017,000/XXX|Apr:2017,000/XXX|      PRIMARY         40,006             []        02-01-2018\n",
      "       XXXX             XXXX Personal Loan    28-02-2019    Individual         Closed            5,000     30-12-2018        02-01-2018          []          []             0               0      Un-secured                                   Aug:2018,000/XXX|Jul:2018,000/XXX|Jun:2018,000/XXX|May:2018,000/XXX|Apr:2018,000/XXX|Mar:2018,000/XXX|Feb:2018,000/XXX|Jan:2018,000/XXX|Dec:2017,000/XXX|Nov:2017,000/XXX|Oct:2017,000/XXX|Sep:2017,000/XXX|Aug:2017,000/XXX|Jul:2017,000/XXX|Jun:2017,000/XXX|May:2017,000/XXX|Apr:2017,000/XXX|      PRIMARY         40,006             []        02-01-2018\n"
     ]
    }
   ],
   "source": [
    "\n",
    "import xml.etree.ElementTree as ETree\n",
    "import pandas as pd\n",
    "  \n",
    "\n",
    "\n",
    "xmldata = r'C:\\Users\\ACER\\Downloads\\Coding_data\\Coding_data\\customer5.xml'  # give the path where you saved the xml file\n",
    "prstree = ETree.parse(xmldata)\n",
    "root = prstree.getroot()\n",
    "\n",
    "\n",
    "store_items = []\n",
    "all_items = []\n",
    "  \n",
    "for storeno in root.iter('LOAN-DETAILS'):\n",
    "    try:\n",
    "        acct_number = storeno.find('ACCT-NUMBER').text\n",
    "        credit_gurantaor = storeno.find('CREDIT-GUARANTOR').text\n",
    "        account_type = storeno.find('ACCT-TYPE').text\n",
    "        date_reported = storeno.find('DATE-REPORTED').text\n",
    "        ownership_ind = storeno.find('OWNERSHIP-IND').text\n",
    "        account_status = storeno.find('ACCOUNT-STATUS').text\n",
    "        disbursed_amt = storeno.find('DISBURSED-AMT').text\n",
    "        disbursed_date = storeno.find('DISBURSED-DATE').text\n",
    "        last_payment_date = storeno.find('LAST-PAYMENT-DATE').text\n",
    "        closed_date = storeno.find('CLOSED-DATE')\n",
    "        overdue_amt = storeno.find('OVERDUE-AMT')\n",
    "        write_off_amt = storeno.find('WRITE-OFF-AMT').text\n",
    "        current_bal = storeno.find('CURRENT-BAL').text\n",
    "        security_status = storeno.find('SECURITY-STATUS').text\n",
    "        combined = storeno.find('COMBINED-PAYMENT-HISTORY').text\n",
    "        matched_type = storeno.find('MATCHED-TYPE').text\n",
    "        actual_payment = storeno.find('ACTUAL-PAYMENT').text\n",
    "        overdue_amt = storeno.find('OVERDUE-AMT').text\n",
    "        last_payment_date = storeno.find('LAST-PAYMENT-DATE').text\n",
    "       \n",
    "    except:\n",
    "        None\n",
    "        store_items = [acct_number, credit_gurantaor,account_type, date_reported,  ownership_ind, account_status,disbursed_amt,disbursed_date,last_payment_date,closed_date,overdue_amt, write_off_amt,current_bal, security_status,combined,matched_type,actual_payment,overdue_amt,last_payment_date]\n",
    "        all_items.append(store_items)\n",
    "    \n",
    "xmlToDf = pd.DataFrame(all_items, columns=[\n",
    "  'Acct_Number','Credit_gurantaor','Account_type', 'Date_Reported', 'Ownership_ind', 'Account_Status','Disbursed_Amount','Disbursed_Date','Last_payment_date','Closed_date','Overdue_amt','Write_off_amt','Current_Balance','Security_Status','Combined_Payment_History','Matched_type','Actual_payment','Overdue_Amount','Last_Payment_Date'])\n",
    "  \n",
    "print(xmlToDf.to_string(index=False))"
   ]
  },
  {
   "cell_type": "code",
   "execution_count": null,
   "id": "b8532d92",
   "metadata": {},
   "outputs": [],
   "source": [
    "#in above dataframe we got all necessary information we want from xml file"
   ]
  },
  {
   "cell_type": "code",
   "execution_count": 19,
   "id": "8e97a31f",
   "metadata": {},
   "outputs": [
    {
     "data": {
      "text/plain": [
       "(28, 19)"
      ]
     },
     "execution_count": 19,
     "metadata": {},
     "output_type": "execute_result"
    }
   ],
   "source": [
    "xmlToDf.shape"
   ]
  },
  {
   "cell_type": "code",
   "execution_count": 110,
   "id": "414ac244",
   "metadata": {},
   "outputs": [
    {
     "name": "stdout",
     "output_type": "stream",
     "text": [
      "0      1,00,000\n",
      "1      1,27,341\n",
      "2      9,00,000\n",
      "3      1,30,405\n",
      "4        22,999\n",
      "5      3,75,000\n",
      "6        35,000\n",
      "7      1,21,094\n",
      "8      1,21,094\n",
      "9      3,00,000\n",
      "10       42,000\n",
      "11       60,000\n",
      "12       70,000\n",
      "13     3,01,000\n",
      "14     9,85,000\n",
      "15    12,28,599\n",
      "16     6,50,000\n",
      "17       47,148\n",
      "18          532\n",
      "19       55,666\n",
      "20     3,75,000\n",
      "21       97,983\n",
      "22     1,55,677\n",
      "23       15,390\n",
      "24       55,666\n",
      "25     1,60,000\n",
      "26            0\n",
      "27     1,14,304\n",
      "Name: Disbursed_Amount, dtype: object\n"
     ]
    }
   ],
   "source": [
    "print(xmlToDf.Disbursed_Amount)   #we get all Disbursed amt of customer1"
   ]
  },
  {
   "cell_type": "code",
   "execution_count": 112,
   "id": "952cd37d",
   "metadata": {},
   "outputs": [
    {
     "name": "stdout",
     "output_type": "stream",
     "text": [
      "List of Disbursedamt =  ['1,00,000', '1,27,341', '9,00,000', '1,30,405', '22,999', '3,75,000', '35,000', '1,21,094', '1,21,094', '3,00,000', '42,000', '60,000', '70,000', '3,01,000', '9,85,000', '12,28,599', '6,50,000', '47,148', '532', '55,666', '3,75,000', '97,983', '1,55,677', '15,390', '55,666', '1,60,000', '0', '1,14,304']\n"
     ]
    }
   ],
   "source": [
    "list_of_disbursedamt = xmlToDf['Disbursed_Amount'].to_list()\n",
    "print('List of Disbursedamt = ', list_of_disbursedamt)"
   ]
  },
  {
   "cell_type": "code",
   "execution_count": 113,
   "id": "9a3f357d",
   "metadata": {},
   "outputs": [
    {
     "name": "stdout",
     "output_type": "stream",
     "text": [
      "['1,00,000', '1,27,341', '9,00,000', '1,30,405', '22,999', '3,75,000', '35,000', '1,21,094', '1,21,094', '3,00,000', '42,000', '60,000', '70,000', '3,01,000', '9,85,000', '12,28,599', '6,50,000', '47,148', '532', '55,666', '3,75,000', '97,983', '1,55,677', '15,390', '55,666', '1,60,000', '0', '1,14,304']\n"
     ]
    }
   ],
   "source": [
    "s = list_of_disbursedamt\n",
    "print(s)"
   ]
  },
  {
   "cell_type": "code",
   "execution_count": 114,
   "id": "d8cbeee5",
   "metadata": {},
   "outputs": [],
   "source": [
    "s = xmlToDf.Disbursed_Amount"
   ]
  },
  {
   "cell_type": "code",
   "execution_count": 115,
   "id": "9d2e99cb",
   "metadata": {},
   "outputs": [
    {
     "name": "stdout",
     "output_type": "stream",
     "text": [
      "0      1,00,000\n",
      "1      1,27,341\n",
      "2      9,00,000\n",
      "3      1,30,405\n",
      "4        22,999\n",
      "5      3,75,000\n",
      "6        35,000\n",
      "7      1,21,094\n",
      "8      1,21,094\n",
      "9      3,00,000\n",
      "10       42,000\n",
      "11       60,000\n",
      "12       70,000\n",
      "13     3,01,000\n",
      "14     9,85,000\n",
      "15    12,28,599\n",
      "16     6,50,000\n",
      "17       47,148\n",
      "18          532\n",
      "19       55,666\n",
      "20     3,75,000\n",
      "21       97,983\n",
      "22     1,55,677\n",
      "23       15,390\n",
      "24       55,666\n",
      "25     1,60,000\n",
      "26            0\n",
      "27     1,14,304\n",
      "Name: Disbursed_Amount, dtype: object\n"
     ]
    }
   ],
   "source": [
    "print(s)"
   ]
  },
  {
   "cell_type": "code",
   "execution_count": null,
   "id": "56aea74d",
   "metadata": {},
   "outputs": [],
   "source": [
    "#to save Customer 1 disbursed amt detail in csv file"
   ]
  },
  {
   "cell_type": "code",
   "execution_count": 116,
   "id": "cf212ff1",
   "metadata": {},
   "outputs": [],
   "source": [
    "s.to_csv(r\"C:\\Users\\ACER\\Downloads\\Insurance-prediction-main\\Insurance-prediction-main\\customer1.xls\")"
   ]
  },
  {
   "cell_type": "code",
   "execution_count": null,
   "id": "fbe90ee6",
   "metadata": {},
   "outputs": [],
   "source": [
    "#run code to convert xml file into dataframe from every customer and then saving them to csv files"
   ]
  },
  {
   "cell_type": "code",
   "execution_count": 7,
   "id": "7a5902da",
   "metadata": {},
   "outputs": [
    {
     "name": "stdout",
     "output_type": "stream",
     "text": [
      "0     2,21,850\n",
      "1       54,997\n",
      "2       10,000\n",
      "3        5,000\n",
      "4        8,000\n",
      "5     1,32,000\n",
      "6       12,700\n",
      "7        8,000\n",
      "8        7,992\n",
      "9       10,000\n",
      "10      10,242\n",
      "11       8,000\n",
      "12      39,000\n",
      "13      38,000\n",
      "14       8,000\n",
      "15      38,700\n",
      "16      60,000\n",
      "17      16,607\n",
      "18      10,000\n",
      "19    1,35,000\n",
      "20      17,409\n",
      "21      25,000\n",
      "22      27,000\n",
      "23      10,000\n",
      "24       8,000\n",
      "25       5,000\n",
      "26      38,700\n",
      "27      10,000\n",
      "28      41,363\n",
      "29      56,044\n",
      "Name: Disbursed_Amount, dtype: object\n"
     ]
    }
   ],
   "source": [
    "print(xmlToDf.Disbursed_Amount)"
   ]
  },
  {
   "cell_type": "code",
   "execution_count": 82,
   "id": "0d7addfd",
   "metadata": {},
   "outputs": [],
   "source": [
    "t=xmlToDf.Disbursed_Amount"
   ]
  },
  {
   "cell_type": "code",
   "execution_count": 85,
   "id": "52c346d5",
   "metadata": {},
   "outputs": [],
   "source": [
    "t.to_csv(r\"C:\\Users\\ACER\\Downloads\\Insurance-prediction-main\\Insurance-prediction-main\\customer2.xls\")"
   ]
  },
  {
   "cell_type": "code",
   "execution_count": 87,
   "id": "6f713181",
   "metadata": {},
   "outputs": [
    {
     "name": "stdout",
     "output_type": "stream",
     "text": [
      "0       17,926\n",
      "1     1,00,000\n",
      "2       52,602\n",
      "3       38,221\n",
      "4       58,276\n",
      "5       37,000\n",
      "6       40,000\n",
      "7       23,990\n",
      "8        4,000\n",
      "9       71,000\n",
      "10      48,619\n",
      "11      50,000\n",
      "12      46,273\n",
      "13      10,000\n",
      "14       4,000\n",
      "15      11,790\n",
      "Name: Disbursed_Amount, dtype: object\n"
     ]
    }
   ],
   "source": [
    "print(xmlToDf.Disbursed_Amount)\n",
    "u=xmlToDf.Disbursed_Amount\n",
    "u.to_csv(r\"C:\\Users\\ACER\\Downloads\\Insurance-prediction-main\\Insurance-prediction-main\\customer3.xls\")\n"
   ]
  },
  {
   "cell_type": "code",
   "execution_count": 93,
   "id": "d51a8c6e",
   "metadata": {},
   "outputs": [
    {
     "name": "stdout",
     "output_type": "stream",
     "text": [
      "0     1,52,244\n",
      "1        7,000\n",
      "2       51,000\n",
      "3       16,999\n",
      "4       60,000\n",
      "5     2,18,876\n",
      "6       99,698\n",
      "7     2,13,844\n",
      "8       11,000\n",
      "9       13,990\n",
      "10    2,13,844\n",
      "11       5,000\n",
      "12      14,478\n",
      "13      15,500\n",
      "14    1,32,000\n",
      "15      19,999\n",
      "16    1,91,081\n",
      "17    1,03,171\n",
      "18    3,03,814\n",
      "19    4,85,000\n",
      "20      10,000\n",
      "21    3,10,161\n",
      "22      71,352\n",
      "23      47,687\n",
      "24       7,809\n",
      "25      66,000\n",
      "26    5,00,000\n",
      "27       5,000\n",
      "28      10,000\n",
      "29      84,257\n",
      "30    1,32,000\n",
      "Name: Disbursed_Amount, dtype: object\n"
     ]
    }
   ],
   "source": [
    "print(xmlToDf.Disbursed_Amount)\n",
    "v=xmlToDf.Disbursed_Amount\n",
    "v.to_csv(r\"C:\\Users\\ACER\\Downloads\\Insurance-prediction-main\\Insurance-prediction-main\\customer4.xls\")"
   ]
  },
  {
   "cell_type": "code",
   "execution_count": 97,
   "id": "91a19e38",
   "metadata": {},
   "outputs": [
    {
     "name": "stdout",
     "output_type": "stream",
     "text": [
      "0     36,000\n",
      "1     31,395\n",
      "2      4,700\n",
      "3     27,900\n",
      "4     30,000\n",
      "5      9,000\n",
      "6     44,034\n",
      "7     29,000\n",
      "8     11,400\n",
      "9     42,500\n",
      "10    19,500\n",
      "11    25,900\n",
      "12     6,000\n",
      "13     8,530\n",
      "14    39,990\n",
      "15    13,500\n",
      "16    19,120\n",
      "17    54,600\n",
      "18    10,268\n",
      "19    47,996\n",
      "20     6,005\n",
      "21    71,410\n",
      "22     5,249\n",
      "23    25,600\n",
      "24    17,000\n",
      "25     8,000\n",
      "26    46,000\n",
      "27    18,800\n",
      "28    50,300\n",
      "29    21,990\n",
      "30    41,700\n",
      "31     7,000\n",
      "32    16,600\n",
      "Name: Disbursed_Amount, dtype: object\n"
     ]
    }
   ],
   "source": [
    "print(xmlToDf.Disbursed_Amount)\n",
    "w=xmlToDf.Disbursed_Amount\n",
    "w.to_csv(r\"C:\\Users\\ACER\\Downloads\\Insurance-prediction-main\\Insurance-prediction-main\\customer6.xls\")"
   ]
  },
  {
   "cell_type": "code",
   "execution_count": 100,
   "id": "72849c5d",
   "metadata": {},
   "outputs": [
    {
     "name": "stdout",
     "output_type": "stream",
     "text": [
      "0      1,01,333\n",
      "1      5,70,000\n",
      "2        33,000\n",
      "3        40,000\n",
      "4        14,500\n",
      "5        12,000\n",
      "6        12,000\n",
      "7      1,75,800\n",
      "8     10,00,000\n",
      "9      1,30,700\n",
      "10       36,944\n",
      "11       16,915\n",
      "12       41,062\n",
      "13     5,00,000\n",
      "14       74,532\n",
      "15    15,00,000\n",
      "16        6,690\n",
      "17            0\n",
      "18       11,225\n",
      "19        4,974\n",
      "20       67,860\n",
      "21     5,00,000\n",
      "22     5,13,000\n",
      "23       21,500\n",
      "24     6,98,000\n",
      "25       20,593\n",
      "26       49,000\n",
      "27    38,27,000\n",
      "Name: Disbursed_Amount, dtype: object\n"
     ]
    }
   ],
   "source": [
    "print(xmlToDf.Disbursed_Amount)\n",
    "x=xmlToDf.Disbursed_Amount\n",
    "x.to_csv(r\"C:\\Users\\ACER\\Downloads\\Insurance-prediction-main\\Insurance-prediction-main\\customer7.xls\")"
   ]
  },
  {
   "cell_type": "code",
   "execution_count": 102,
   "id": "5e002ca6",
   "metadata": {},
   "outputs": [
    {
     "name": "stdout",
     "output_type": "stream",
     "text": [
      "0       35,000\n",
      "1       31,500\n",
      "2       12,000\n",
      "3        6,400\n",
      "4       15,500\n",
      "5       70,000\n",
      "6       45,000\n",
      "7       20,000\n",
      "8       47,000\n",
      "9       35,000\n",
      "10      20,000\n",
      "11       5,000\n",
      "12      20,000\n",
      "13    1,30,000\n",
      "14      21,600\n",
      "15      50,000\n",
      "16      20,000\n",
      "17    1,65,000\n",
      "18      11,500\n",
      "19      11,500\n",
      "20      11,340\n",
      "21      38,000\n",
      "22      52,000\n",
      "23      62,000\n",
      "24      35,000\n",
      "Name: Disbursed_Amount, dtype: object\n"
     ]
    }
   ],
   "source": [
    "print(xmlToDf.Disbursed_Amount)\n",
    "y=xmlToDf.Disbursed_Amount\n",
    "y.to_csv(r\"C:\\Users\\ACER\\Downloads\\Insurance-prediction-main\\Insurance-prediction-main\\customer8.xls\")"
   ]
  },
  {
   "cell_type": "code",
   "execution_count": 106,
   "id": "ce5c792e",
   "metadata": {},
   "outputs": [
    {
     "name": "stdout",
     "output_type": "stream",
     "text": [
      "0       12,500\n",
      "1       10,100\n",
      "2       22,000\n",
      "3       22,000\n",
      "4        9,500\n",
      "5       32,500\n",
      "6        8,100\n",
      "7            1\n",
      "8        9,200\n",
      "9       65,100\n",
      "10      11,100\n",
      "11    5,00,000\n",
      "12      93,500\n",
      "Name: Disbursed_Amount, dtype: object\n"
     ]
    }
   ],
   "source": [
    "print(xmlToDf.Disbursed_Amount)\n",
    "z=xmlToDf.Disbursed_Amount\n",
    "z.to_csv(r\"C:\\Users\\ACER\\Downloads\\Insurance-prediction-main\\Insurance-prediction-main\\customer9.xls\")"
   ]
  },
  {
   "cell_type": "code",
   "execution_count": 108,
   "id": "b61b8a01",
   "metadata": {},
   "outputs": [
    {
     "name": "stdout",
     "output_type": "stream",
     "text": [
      "0       45,614\n",
      "1       26,740\n",
      "2     3,17,000\n",
      "3     1,00,000\n",
      "4     1,29,000\n",
      "5     6,38,536\n",
      "6       16,032\n",
      "7    17,10,000\n",
      "Name: Disbursed_Amount, dtype: object\n"
     ]
    }
   ],
   "source": [
    "print(xmlToDf.Disbursed_Amount)\n",
    "a=xmlToDf.Disbursed_Amount\n",
    "a.to_csv(r\"C:\\Users\\ACER\\Downloads\\Insurance-prediction-main\\Insurance-prediction-main\\customer10.xls\")"
   ]
  },
  {
   "cell_type": "code",
   "execution_count": 9,
   "id": "ec68e61d",
   "metadata": {},
   "outputs": [
    {
     "name": "stdout",
     "output_type": "stream",
     "text": [
      "0        3,500\n",
      "1       30,551\n",
      "2       46,000\n",
      "3       91,000\n",
      "4        1,799\n",
      "5        3,500\n",
      "6     1,14,000\n",
      "7        1,979\n",
      "8       39,000\n",
      "9        3,500\n",
      "10       3,500\n",
      "11      30,200\n",
      "12      37,999\n",
      "13       5,000\n",
      "14       9,484\n",
      "15       9,000\n",
      "16      16,500\n",
      "17      29,575\n",
      "18       5,000\n",
      "19       3,500\n",
      "20       8,800\n",
      "21      80,000\n",
      "22      24,240\n",
      "23       5,000\n",
      "24      12,661\n",
      "25      11,999\n",
      "26      30,552\n",
      "27       4,000\n",
      "28      25,000\n",
      "29       5,000\n",
      "Name: Disbursed_Amount, dtype: object\n"
     ]
    }
   ],
   "source": [
    "print(xmlToDf.Disbursed_Amount)\n",
    "y=xmlToDf.Disbursed_Amount\n",
    "y.to_csv(r\"C:\\Users\\ACER\\Downloads\\Insurance-prediction-main\\Insurance-prediction-main\\customer5.xls\")"
   ]
  },
  {
   "cell_type": "code",
   "execution_count": 11,
   "id": "60d08827",
   "metadata": {},
   "outputs": [],
   "source": [
    "#Combining all customers file of their disbursed amount"
   ]
  },
  {
   "cell_type": "code",
   "execution_count": 18,
   "id": "cdba145a",
   "metadata": {},
   "outputs": [
    {
     "name": "stdout",
     "output_type": "stream",
     "text": [
      "    Customer1   Customer2  Customer3  Customer4  Cuatomer5  Customer6  \\\n",
      "0     100000.0   221850.0    17926.0   152244.0     3500.0      36000   \n",
      "1     127341.0    54997.0   100000.0     7000.0    30551.0      31395   \n",
      "2     900000.0    10000.0    52602.0    51000.0    46000.0       4700   \n",
      "3     130405.0     5000.0    38221.0    16999.0    91000.0      27900   \n",
      "4      22999.0     8000.0    58276.0    60000.0     1799.0      30000   \n",
      "5     375000.0   132000.0    37000.0   218876.0     3500.0       9000   \n",
      "6      35000.0    12700.0    40000.0    99698.0   114000.0      44034   \n",
      "7     121094.0     8000.0    23990.0   213844.0     1979.0      29000   \n",
      "8     121094.0     7992.0     4000.0    11000.0     9000.0      11400   \n",
      "9     300000.0    10000.0    71000.0    13990.0     3500.0      42500   \n",
      "10     42000.0    10242.0    48619.0   213844.0     3500.0      19500   \n",
      "11     60000.0     8000.0    50000.0     5000.0    30200.0      25900   \n",
      "12     70000.0    39000.0    46273.0    14478.0    37999.0       6000   \n",
      "13    301000.0    38000.0    10000.0    15500.0     5000.0       8530   \n",
      "14    985000.0     8000.0     4000.0   132000.0     9484.0      39990   \n",
      "15   1228599.0    38700.0    11790.0    19999.0    19000.0      13500   \n",
      "16    650000.0    60000.0        NaN   191081.0    16500.0      19120   \n",
      "17     47148.0    16607.0        NaN   103171.0    29575.0      54600   \n",
      "18     18532.0    10000.0        NaN   303814.0     5000.0      10268   \n",
      "19     55666.0   135000.0        NaN   485000.0     3500.0      47996   \n",
      "20    375000.0    17409.0        NaN    10000.0     8800.0       6005   \n",
      "21     97983.0    25000.0        NaN   310161.0    80000.0      71410   \n",
      "22    155677.0    27000.0        NaN    71352.0    24240.0       5249   \n",
      "23     15390.0    10000.0        NaN    47687.0     5000.0      25600   \n",
      "24     55666.0     8000.0        NaN     7809.0    12661.0      17000   \n",
      "25    160000.0     5000.0        NaN    66000.0    11999.0       8000   \n",
      "26         0.0    38700.0        NaN   500000.0    30552.0      46000   \n",
      "27    114304.0    10000.0        NaN     5000.0     4000.0      18800   \n",
      "28         NaN    41363.0        NaN    10000.0    25000.0      50300   \n",
      "29         NaN    56044.0        NaN    84257.0     5000.0      21990   \n",
      "30         NaN        NaN        NaN   132000.0        NaN      41700   \n",
      "31         NaN        NaN        NaN        NaN        NaN       7000   \n",
      "32         NaN        NaN        NaN        NaN        NaN      16600   \n",
      "\n",
      "    Customer7  Customer8  Customer9  Customer10  \n",
      "0    101333.0    35000.0    12500.0     45614.0  \n",
      "1    570000.0    31500.0    10100.0     26740.0  \n",
      "2     33000.0    12000.0    22000.0    317000.0  \n",
      "3     40000.0     6400.0    22000.0    100000.0  \n",
      "4     14500.0    15500.0     9500.0    129000.0  \n",
      "5     12000.0    70000.0    32500.0    638536.0  \n",
      "6     12000.0    45000.0     8100.0     16032.0  \n",
      "7    175800.0    20000.0        1.0   1710000.0  \n",
      "8   1000000.0    47000.0     9200.0         NaN  \n",
      "9    130700.0    35000.0    65100.0         NaN  \n",
      "10    36944.0    20000.0    11100.0         NaN  \n",
      "11    16915.0     5000.0   500000.0         NaN  \n",
      "12    41062.0    20000.0    93500.0         NaN  \n",
      "13   500000.0   130000.0        NaN         NaN  \n",
      "14    74532.0    21600.0        NaN         NaN  \n",
      "15  1500000.0    50000.0        NaN         NaN  \n",
      "16     6690.0    20000.0        NaN         NaN  \n",
      "17        0.0   165000.0        NaN         NaN  \n",
      "18    11225.0    11500.0        NaN         NaN  \n",
      "19     4974.0    11500.0        NaN         NaN  \n",
      "20    67860.0    11340.0        NaN         NaN  \n",
      "21   500000.0    38000.0        NaN         NaN  \n",
      "22   513000.0    52000.0        NaN         NaN  \n",
      "23    21500.0    62000.0        NaN         NaN  \n",
      "24   698000.0    35000.0        NaN         NaN  \n",
      "25    20593.0        NaN        NaN         NaN  \n",
      "26    49000.0        NaN        NaN         NaN  \n",
      "27  3827000.0        NaN        NaN         NaN  \n",
      "28        NaN        NaN        NaN         NaN  \n",
      "29        NaN        NaN        NaN         NaN  \n",
      "30        NaN        NaN        NaN         NaN  \n",
      "31        NaN        NaN        NaN         NaN  \n",
      "32        NaN        NaN        NaN         NaN  \n"
     ]
    }
   ],
   "source": [
    "import pandas as pd\n",
    "\n",
    "df = pd.read_csv(r'C:\\Users\\ACER\\Downloads\\merged disbursedamt.csv')\n",
    "print(df)"
   ]
  },
  {
   "cell_type": "code",
   "execution_count": 1,
   "id": "246f3e1e",
   "metadata": {},
   "outputs": [],
   "source": [
    "# sum of total disbursed amount for all loans for each customer"
   ]
  },
  {
   "cell_type": "code",
   "execution_count": 20,
   "id": "2c626eea",
   "metadata": {},
   "outputs": [
    {
     "name": "stdout",
     "output_type": "stream",
     "text": [
      "Customer1     6664898.0\n",
      "Customer2     1072604.0\n",
      "Customer3      613697.0\n",
      "Customer4     3572804.0\n",
      "Cuatomer5      671839.0\n",
      "Customer6      846987.0\n",
      "Customer7     9978628.0\n",
      "Customer8      970340.0\n",
      "Customer9      795601.0\n",
      "Customer10    2982922.0\n",
      "dtype: float64\n"
     ]
    }
   ],
   "source": [
    "sum_column = df.sum(axis=0)\n",
    "print (sum_column)"
   ]
  },
  {
   "cell_type": "markdown",
   "id": "984a941c",
   "metadata": {},
   "source": [
    "# now looking towards combined payment history"
   ]
  },
  {
   "cell_type": "code",
   "execution_count": 14,
   "id": "176e4cfd",
   "metadata": {},
   "outputs": [
    {
     "name": "stdout",
     "output_type": "stream",
     "text": [
      "    Acct_Number Credit_gurantaor         Account_type Date_Reported Ownership_ind Account_Status Disbursed_Amount Disbursed_Date Last_payment_date Closed_date Overdue_amt Write_off_amt Current_Balance Security_Status                                                                                                                                                                                                                                                                                                                                                                                                                                                                                                                                                                                                             Combined_Payment_History Matched_type Actual_payment Overdue_Amount Last_Payment_Date\n",
      "           XXXX             XXXX        Personal Loan    31-03-2018    Individual         Closed         1,00,000     05-04-2017        29-06-2017          []          []             0               0      Un-secured                                                                                                                                                                                                                                                                                                                                                                                                                                                                                                                                                                                  Jun:2017,000/XXX|May:2017,000/XXX|Apr:2017,000/XXX|      PRIMARY         19,280             []        29-06-2017\n",
      "           XXXX             XXXX          Credit Card    31-05-2019    Individual         Active         1,27,341     15-06-2018        21-05-2019        None        None             0        1,02,983      Un-secured                                                                                                                                                                                                                                                                                                                                                                                                                         May:2019,000/XXX|Apr:2019,000/XXX|Mar:2019,000/XXX|Feb:2019,000/XXX|Jan:2019,000/XXX|Dec:2018,000/XXX|Nov:2018,000/XXX|Oct:2018,000/XXX|Sep:2018,000/XXX|Aug:2018,000/XXX|Jul:2018,000/XXX|Jun:2018,000/XXX|      PRIMARY         19,280           None        21-05-2019\n",
      "           XXXX             XXXX        Personal Loan    30-04-2019    Individual         Active         9,00,000     20-07-2018        03-04-2019        None          []             0        8,17,536      Un-secured                                                                                                                                                                                                                                                                                                                                                                                                                                                                            Apr:2019,000/STD|Mar:2019,DDD/DDD|Feb:2019,000/STD|Jan:2019,000/STD|Dec:2018,DDD/DDD|Nov:2018,000/STD|Oct:2018,000/STD|Sep:2018,000/STD|Aug:2018,XXX/XXX|      PRIMARY         19,280             []        03-04-2019\n",
      "           XXXX             XXXX        Consumer Loan    30-11-2014    Individual         Closed         1,30,405     10-07-2013        14-02-2014          []          []             0               0      Un-secured                                                                                                                                                                                                                                                                                                                                                                                                                                                                                                                               Jan:2014,XXX/XXX|Dec:2013,XXX/XXX|Nov:2013,XXX/XXX|Oct:2013,XXX/XXX|Sep:2013,XXX/XXX|Aug:2013,XXX/XXX|      PRIMARY         19,280             []        14-02-2014\n",
      "           XXXX             XXXX        Consumer Loan    30-04-2019    Individual         Closed           22,999     21-09-2016        26-09-2017          []          []             0               0      Un-secured                                                                                                                                                                                                                                                                                                                                                                                                        Sep:2017,000/XXX|Aug:2017,000/XXX|Jul:2017,000/XXX|Jun:2017,000/XXX|May:2017,000/XXX|Apr:2017,000/XXX|Mar:2017,000/XXX|Feb:2017,000/XXX|Jan:2017,000/XXX|Dec:2016,000/XXX|Nov:2016,000/XXX|Oct:2016,000/XXX|Sep:2016,000/XXX|      PRIMARY         19,280             []        26-09-2017\n",
      "           XXXX             XXXX        Personal Loan    31-08-2012    Individual         Closed         3,75,000     12-12-2011        06-08-2012          []        None             0               0      Un-secured                                                                                                                                                                                                                                                                                                                                                                                                                                                                            Aug:2012,000/STD|Jul:2012,000/STD|Jun:2012,000/STD|May:2012,000/STD|Apr:2012,000/STD|Mar:2012,DDD/DDD|Feb:2012,000/STD|Jan:2012,000/STD|Dec:2011,000/STD|      PRIMARY         19,280           None        06-08-2012\n",
      "           XXXX             XXXX        Consumer Loan    30-04-2019    Individual         Active           35,000     28-09-2018        06-08-2012          []        None             0               0      Un-secured                                                                                                                                                                                                                                                                                                                                                                                                                                                                            Aug:2012,000/STD|Jul:2012,000/STD|Jun:2012,000/STD|May:2012,000/STD|Apr:2012,000/STD|Mar:2012,DDD/DDD|Feb:2012,000/STD|Jan:2012,000/STD|Dec:2011,000/STD|      PRIMARY         19,280           None        06-08-2012\n",
      "           XXXX             XXXX          Credit Card    18-04-2019    Individual         Active         1,21,094     17-02-2019        01-04-2019        None        None             0        1,21,094      Un-secured                                                                                                                                                                                                                                                                                                                                                                                                                                                                                                                                                                                                   Apr:2019,000/XXX|Mar:2019,000/XXX|      PRIMARY         19,280           None        01-04-2019\n",
      "           XXXX             XXXX          Credit Card    20-12-2017    Individual         Closed         1,21,094     17-02-2019        01-04-2019        None        None             0        1,21,094      Un-secured                                                                                                                                                                                                                                                                                                                                                                                                                                                                                                                                                                                                   Apr:2019,000/XXX|Mar:2019,000/XXX|      PRIMARY         19,280           None        01-04-2019\n",
      "           XXXX             XXXX        Personal Loan    30-04-2018    Individual         Closed         3,00,000     25-03-2013        02-01-2019        None           0             0        1,28,734      Un-secured                                                                                                                                                                                                                                                                                                                                                                                                                                                                                                                                                                                                   Dec:2018,000/XXX|Nov:2018,000/XXX|      PRIMARY       1,64,367              0        02-01-2019\n",
      "           XXXX             XXXX        Personal Loan    30-04-2019    Individual         Active           42,000     10-01-2019        02-01-2019        None           0             0        1,28,734      Un-secured                                                                                                                                                                                                                                                                                                                                                                                                                                                                                                                                                                                                   Dec:2018,000/XXX|Nov:2018,000/XXX|      PRIMARY       1,64,367              0        02-01-2019\n",
      "           XXXX             XXXX        Personal Loan    01-04-2019    Individual         Active           60,000     16-08-2018        02-01-2019        None           0             0        1,28,734      Un-secured                                                                                                                                                                                                                                                                                                                                                                                                                                                                                                                                                                                                   Dec:2018,000/XXX|Nov:2018,000/XXX|      PRIMARY       1,64,367              0        02-01-2019\n",
      "           XXXX             XXXX        Personal Loan    30-04-2019    Individual         Active           70,000     12-07-2018        02-01-2019        None           0             0        1,28,734      Un-secured                                                                                                                                                                                                                                                                                                                                                                                                                                                                                                                                                                                                   Dec:2018,000/XXX|Nov:2018,000/XXX|      PRIMARY       1,64,367              0        02-01-2019\n",
      "002325200001340            FICCL        Personal Loan    28-02-2014    Individual         Closed         3,01,000     30-06-2011        02-01-2019        None           0             0        1,28,734      Un-secured                                                                                                                                                                                                                                                                                                                                                                                                                                                                                                                                                                                                   Dec:2018,000/XXX|Nov:2018,000/XXX|      PRIMARY       1,64,367              0        02-01-2019\n",
      "           XXXX             XXXX Auto Loan (Personal)    30-04-2019    Individual         Active         9,85,000     22-06-2018        10-04-2019        None        None             0        8,47,014         Secured                                                                                                                                                                                                                                                                                                                                                                                                                                          Apr:2019,000/XXX|Mar:2019,000/XXX|Feb:2019,000/XXX|Jan:2019,000/XXX|Dec:2018,000/XXX|Nov:2018,000/XXX|Oct:2018,000/XXX|Sep:2018,000/XXX|Aug:2018,000/XXX|Jul:2018,000/XXX|Jun:2018,000/XXX|      PRIMARY       1,64,367           None        10-04-2019\n",
      "           XXXX             XXXX        Personal Loan    30-04-2019    Individual         Active        12,28,599     13-12-2017        02-04-2019        None          []             0       12,28,599      Un-secured                                                                                                                                                                                                                                                                                                                                                     Apr:2019,000/XXX|Mar:2019,000/XXX|Feb:2019,000/XXX|Jan:2019,000/XXX|Dec:2018,DDD/DDD|Nov:2018,000/XXX|Oct:2018,000/XXX|Sep:2018,000/XXX|Aug:2018,XXX/XXX|Jul:2018,XXX/XXX|Jun:2018,XXX/XXX|May:2018,XXX/XXX|Apr:2018,XXX/XXX|Mar:2018,XXX/XXX|Feb:2018,XXX/XXX|Jan:2018,XXX/XXX|      PRIMARY         64,738             []        02-04-2019\n",
      "           XXXX             XXXX        Personal Loan    31-03-2014    Individual         Closed         6,50,000     28-08-2012        05-03-2014          []        None             0               0      Un-secured                                                                                                                                                                                                                                                                                 Mar:2014,000/STD|Feb:2014,000/STD|Jan:2014,000/STD|Dec:2013,000/STD|Nov:2013,000/STD|Oct:2013,DDD/DDD|Sep:2013,000/STD|Aug:2013,000/STD|Jul:2013,000/STD|Jun:2013,000/STD|May:2013,000/STD|Apr:2013,000/STD|Mar:2013,000/STD|Feb:2013,000/STD|Jan:2013,000/STD|Dec:2012,000/STD|Nov:2012,000/STD|Oct:2012,000/STD|Sep:2012,000/STD|Aug:2012,000/STD|      PRIMARY         64,738           None        05-03-2014\n",
      "           XXXX             XXXX          Credit Card    19-05-2011    Individual         Closed           47,148     29-08-2008        07-02-2011          []          []             0               0      Un-secured                                                                                                                                         Dec:2010,180/LOS|Nov:2010,150/XXX|Oct:2010,XXX/XXX|Sep:2010,XXX/XXX|Aug:2010,XXX/XXX|Jul:2010,XXX/XXX|Jun:2010,XXX/XXX|May:2010,XXX/XXX|Apr:2010,XXX/XXX|Mar:2010,XXX/XXX|Feb:2010,XXX/XXX|Jan:2010,XXX/XXX|Dec:2009,XXX/XXX|Nov:2009,XXX/XXX|Oct:2009,XXX/XXX|Sep:2009,XXX/XXX|Aug:2009,XXX/XXX|Jul:2009,XXX/XXX|Jun:2009,XXX/XXX|May:2009,XXX/XXX|Apr:2009,XXX/XXX|Mar:2009,XXX/XXX|Feb:2009,XXX/XXX|Jan:2009,XXX/XXX|Dec:2008,XXX/XXX|Nov:2008,XXX/XXX|Oct:2008,XXX/XXX|Sep:2008,XXX/XXX|      PRIMARY         14,968             []        07-02-2011\n",
      "           XXXX             XXXX          Credit Card    14-07-2014    Individual         Closed              532     14-10-2011        03-02-2012          []        None             0               0      Un-secured                                                    Jul:2014,000/XXX|Jun:2014,DDD/DDD|May:2014,DDD/DDD|Apr:2014,738/XXX|Mar:2014,DDD/DDD|Feb:2014,DDD/DDD|Jan:2014,DDD/DDD|Dec:2013,DDD/DDD|Nov:2013,DDD/DDD|Oct:2013,DDD/DDD|Sep:2013,DDD/DDD|Aug:2013,DDD/DDD|Jul:2013,DDD/DDD|Jun:2013,DDD/DDD|May:2013,DDD/DDD|Apr:2013,DDD/DDD|Mar:2013,DDD/DDD|Feb:2013,DDD/DDD|Jan:2013,DDD/DDD|Dec:2012,DDD/DDD|Nov:2012,DDD/DDD|Oct:2012,DDD/DDD|Sep:2012,DDD/DDD|Aug:2012,DDD/DDD|Jul:2012,DDD/DDD|Jun:2012,DDD/DDD|May:2012,DDD/DDD|Apr:2012,DDD/DDD|Mar:2012,000/XXX|Feb:2012,XXX/XXX|Jan:2012,XXX/XXX|Dec:2011,XXX/XXX|Nov:2011,XXX/XXX|      PRIMARY         14,968           None        03-02-2012\n",
      "           XXXX             XXXX          Credit Card    12-04-2019    Individual         Closed           55,666     19-12-2017        22-07-2018          []          []             0          -1,121      Un-secured                                                                                                                                                                                                                                                                                                                                                                                                                                          Nov:2018,000/XXX|Oct:2018,000/XXX|Sep:2018,000/XXX|Aug:2018,XXX/XXX|Jul:2018,XXX/XXX|Jun:2018,XXX/XXX|May:2018,XXX/XXX|Apr:2018,XXX/XXX|Mar:2018,XXX/XXX|Feb:2018,XXX/XXX|Jan:2018,XXX/XXX|      PRIMARY         14,968             []        22-07-2018\n",
      "           XXXX             XXXX            Gold Loan    31-08-2018    Individual         Closed         3,75,000     23-11-2016        18-08-2018          []          []             0               0         Secured                                                                                                                                                                                                                                               Aug:2018,000/XXX|Jul:2018,000/XXX|Jun:2018,000/XXX|May:2018,001/XXX|Apr:2018,001/XXX|Mar:2018,000/XXX|Feb:2018,000/XXX|Jan:2018,DDD/DDD|Dec:2017,000/XXX|Nov:2017,000/XXX|Oct:2017,000/XXX|Sep:2017,001/XXX|Aug:2017,000/XXX|Jul:2017,001/XXX|Jun:2017,001/XXX|May:2017,000/XXX|Apr:2017,000/XXX|Mar:2017,000/XXX|Feb:2017,000/XXX|Jan:2017,000/XXX|Dec:2016,000/XXX|Nov:2016,000/XXX|      PRIMARY              0             []        18-08-2018\n",
      "           XXXX             XXXX          Credit Card    31-01-2014    Individual         Active           97,983     09-08-2010        17-01-2014        None        None             0          93,279      Un-secured Jul:2016,000/XXX|Jun:2016,000/XXX|May:2016,000/XXX|Apr:2016,000/XXX|Mar:2016,000/XXX|Feb:2016,000/XXX|Jan:2016,060/XXX|Dec:2015,060/XXX|Nov:2015,028/XXX|Oct:2015,000/XXX|Sep:2015,000/XXX|Aug:2015,000/XXX|Jul:2015,000/XXX|Jun:2015,000/XXX|May:2015,000/XXX|Apr:2015,000/XXX|Mar:2015,000/XXX|Feb:2015,000/XXX|Jan:2015,000/XXX|Dec:2014,000/XXX|Nov:2014,000/XXX|Oct:2014,000/XXX|Sep:2014,000/XXX|Aug:2014,000/XXX|Jul:2014,000/XXX|Jun:2014,000/XXX|May:2014,000/XXX|Apr:2014,000/XXX|Mar:2014,000/XXX|Feb:2014,000/XXX|Jan:2014,000/XXX|Dec:2013,000/XXX|Nov:2013,000/XXX|Oct:2013,000/XXX|Sep:2013,000/XXX|Aug:2013,XXX/XXX|      PRIMARY              0           None        17-01-2014\n",
      "           XXXX             XXXX          Credit Card    16-04-2019    Individual         Active         1,55,677     11-06-2018        30-03-2019        None        None             0           3,013      Un-secured                                                                                                                                                                                                                                                                                                                                                                                                                                                           Apr:2019,000/XXX|Mar:2019,000/XXX|Feb:2019,000/XXX|Jan:2019,000/XXX|Dec:2018,000/XXX|Nov:2018,000/XXX|Oct:2018,000/XXX|Sep:2018,000/XXX|Aug:2018,000/XXX|Jul:2018,000/XXX|      PRIMARY       2,00,000           None        30-03-2019\n",
      "           XXXX             XXXX          Credit Card    19-08-2011    Individual         Closed           15,390     18-10-2007        07-02-2011          []          []             0               0      Un-secured Jan:2011,120/XXX|Dec:2010,090/XXX|Nov:2010,060/XXX|Oct:2010,XXX/XXX|Sep:2010,XXX/XXX|Aug:2010,XXX/XXX|Jul:2010,XXX/XXX|Jun:2010,XXX/XXX|May:2010,XXX/XXX|Apr:2010,XXX/XXX|Mar:2010,XXX/XXX|Feb:2010,XXX/XXX|Jan:2010,XXX/XXX|Dec:2009,XXX/XXX|Nov:2009,XXX/XXX|Oct:2009,XXX/XXX|Sep:2009,XXX/XXX|Aug:2009,XXX/XXX|Jul:2009,XXX/XXX|Jun:2009,XXX/XXX|May:2009,XXX/XXX|Apr:2009,XXX/XXX|Mar:2009,XXX/XXX|Feb:2009,XXX/XXX|Jan:2009,XXX/XXX|Dec:2008,XXX/XXX|Nov:2008,XXX/XXX|Oct:2008,XXX/XXX|Sep:2008,XXX/XXX|Aug:2008,XXX/XXX|Jul:2008,XXX/XXX|Jun:2008,XXX/XXX|May:2008,XXX/XXX|Apr:2008,XXX/XXX|Mar:2008,XXX/XXX|Feb:2008,XXX/XXX|      PRIMARY       2,00,000             []        07-02-2011\n",
      "           XXXX             XXXX          Credit Card    12-04-2019    Individual         Closed           55,666     19-12-2017        22-07-2018          []          []             0               0      Un-secured                                                                                                                                                                                                                                                                                                                                                                                                                                          Oct:2018,000/XXX|Sep:2018,000/XXX|Aug:2018,000/XXX|Jul:2018,000/XXX|Jun:2018,000/XXX|May:2018,000/XXX|Apr:2018,000/XXX|Mar:2018,000/XXX|Feb:2018,000/XXX|Jan:2018,000/XXX|Dec:2017,000/XXX|      PRIMARY       2,00,000             []        22-07-2018\n",
      "           XXXX             XXXX        Personal Loan    30-11-2018    Individual         Closed         1,60,000     26-10-2017        22-07-2018          []          []             0               0      Un-secured                                                                                                                                                                                                                                                                                                                                                                                                                                          Oct:2018,000/XXX|Sep:2018,000/XXX|Aug:2018,000/XXX|Jul:2018,000/XXX|Jun:2018,000/XXX|May:2018,000/XXX|Apr:2018,000/XXX|Mar:2018,000/XXX|Feb:2018,000/XXX|Jan:2018,000/XXX|Dec:2017,000/XXX|      PRIMARY       2,00,000             []        22-07-2018\n",
      "           XXXX             XXXX          Credit Card    10-04-2014    Individual         Closed                0     07-06-2010        10-04-2014          []          []             0               0      Un-secured Apr:2014,000/XXX|Mar:2014,XXX/XXX|Feb:2014,XXX/XXX|Jan:2014,XXX/XXX|Dec:2013,XXX/XXX|Nov:2013,XXX/XXX|Oct:2013,XXX/XXX|Sep:2013,XXX/XXX|Aug:2013,XXX/XXX|Jul:2013,XXX/XXX|Jun:2013,XXX/XXX|May:2013,XXX/XXX|Apr:2013,XXX/XXX|Mar:2013,XXX/XXX|Feb:2013,XXX/XXX|Jan:2013,XXX/XXX|Dec:2012,XXX/XXX|Nov:2012,XXX/XXX|Oct:2012,XXX/XXX|Sep:2012,XXX/XXX|Aug:2012,XXX/XXX|Jul:2012,XXX/XXX|Jun:2012,XXX/XXX|May:2012,XXX/XXX|Apr:2012,XXX/XXX|Mar:2012,XXX/XXX|Feb:2012,XXX/XXX|Jan:2012,XXX/XXX|Dec:2011,XXX/XXX|Nov:2011,XXX/XXX|Oct:2011,XXX/XXX|Sep:2011,XXX/XXX|Aug:2011,XXX/XXX|Jul:2011,XXX/XXX|Jun:2011,XXX/XXX|May:2011,XXX/XXX|      PRIMARY       2,00,000             []        10-04-2014\n",
      "           XXXX             XXXX          Credit Card    30-04-2019    Individual         Active         1,14,304     09-08-2010        26-04-2019        None        None             0               2      Un-secured Apr:2019,000/XXX|Mar:2019,000/XXX|Feb:2019,000/XXX|Jan:2019,000/XXX|Dec:2018,000/XXX|Nov:2018,000/XXX|Oct:2018,000/XXX|Sep:2018,000/XXX|Aug:2018,000/XXX|Jul:2018,000/XXX|Jun:2018,000/XXX|May:2018,000/XXX|Apr:2018,000/XXX|Mar:2018,000/XXX|Feb:2018,000/XXX|Jan:2018,000/XXX|Dec:2017,000/XXX|Nov:2017,000/XXX|Oct:2017,000/XXX|Sep:2017,000/XXX|Aug:2017,000/XXX|Jul:2017,000/XXX|Jun:2017,000/XXX|May:2017,000/XXX|Apr:2017,000/XXX|Mar:2017,000/XXX|Feb:2017,000/XXX|Jan:2017,000/XXX|Dec:2016,000/XXX|Nov:2016,000/XXX|Oct:2016,000/XXX|Sep:2016,000/XXX|Aug:2016,000/XXX|Jul:2016,XXX/XXX|Jun:2016,XXX/XXX|May:2016,XXX/XXX|      PRIMARY       2,00,000           None        26-04-2019\n"
     ]
    }
   ],
   "source": [
    "import xml.etree.ElementTree as ETree\n",
    "import pandas as pd\n",
    "  \n",
    "# give the path where you saved the xml file\n",
    "# inside the quotes\n",
    "xmldata = r'C:\\Users\\ACER\\Downloads\\Coding_data\\Coding_data\\customer1.xml'\n",
    "prstree = ETree.parse(xmldata)\n",
    "root = prstree.getroot()\n",
    "\n",
    "  \n",
    "# print(root)\n",
    "store_items = []\n",
    "all_items = []\n",
    "  \n",
    "for storeno in root.iter('LOAN-DETAILS'):\n",
    "    try:\n",
    "        acct_number = storeno.find('ACCT-NUMBER').text\n",
    "        credit_gurantaor = storeno.find('CREDIT-GUARANTOR').text\n",
    "        account_type = storeno.find('ACCT-TYPE').text\n",
    "        date_reported = storeno.find('DATE-REPORTED').text\n",
    "        ownership_ind = storeno.find('OWNERSHIP-IND').text\n",
    "        account_status = storeno.find('ACCOUNT-STATUS').text\n",
    "        disbursed_amt = storeno.find('DISBURSED-AMT').text\n",
    "        disbursed_date = storeno.find('DISBURSED-DATE').text\n",
    "        last_payment_date = storeno.find('LAST-PAYMENT-DATE').text\n",
    "        closed_date = storeno.find('CLOSED-DATE')\n",
    "        overdue_amt = storeno.find('OVERDUE-AMT')\n",
    "        write_off_amt = storeno.find('WRITE-OFF-AMT').text\n",
    "        current_bal = storeno.find('CURRENT-BAL').text\n",
    "        security_status = storeno.find('SECURITY-STATUS').text\n",
    "        combined = storeno.find('COMBINED-PAYMENT-HISTORY').text\n",
    "        matched_type = storeno.find('MATCHED-TYPE').text\n",
    "        actual_payment = storeno.find('ACTUAL-PAYMENT').text\n",
    "        overdue_amt = storeno.find('OVERDUE-AMT').text\n",
    "        last_payment_date = storeno.find('LAST-PAYMENT-DATE').text\n",
    "       \n",
    "    except:\n",
    "        None\n",
    "        store_items = [acct_number, credit_gurantaor,account_type, date_reported,  ownership_ind, account_status,disbursed_amt,disbursed_date,last_payment_date,closed_date,overdue_amt, write_off_amt,current_bal, security_status,combined,matched_type,actual_payment,overdue_amt,last_payment_date]\n",
    "        all_items.append(store_items)\n",
    "    \n",
    "xmlToDf = pd.DataFrame(all_items, columns=[\n",
    "  'Acct_Number','Credit_gurantaor','Account_type', 'Date_Reported', 'Ownership_ind', 'Account_Status','Disbursed_Amount','Disbursed_Date','Last_payment_date','Closed_date','Overdue_amt','Write_off_amt','Current_Balance','Security_Status','Combined_Payment_History','Matched_type','Actual_payment','Overdue_Amount','Last_Payment_Date'])\n",
    "  \n",
    "print(xmlToDf.to_string(index=False))"
   ]
  },
  {
   "cell_type": "code",
   "execution_count": 26,
   "id": "7740be04",
   "metadata": {},
   "outputs": [
    {
     "name": "stdout",
     "output_type": "stream",
     "text": [
      "0     Jun:2017,000/XXX|May:2017,000/XXX|Apr:2017,000...\n",
      "1     May:2019,000/XXX|Apr:2019,000/XXX|Mar:2019,000...\n",
      "2     Apr:2019,000/STD|Mar:2019,DDD/DDD|Feb:2019,000...\n",
      "3     Jan:2014,XXX/XXX|Dec:2013,XXX/XXX|Nov:2013,XXX...\n",
      "4     Sep:2017,000/XXX|Aug:2017,000/XXX|Jul:2017,000...\n",
      "5     Aug:2012,000/STD|Jul:2012,000/STD|Jun:2012,000...\n",
      "6     Aug:2012,000/STD|Jul:2012,000/STD|Jun:2012,000...\n",
      "7                    Apr:2019,000/XXX|Mar:2019,000/XXX|\n",
      "8                    Apr:2019,000/XXX|Mar:2019,000/XXX|\n",
      "9                    Dec:2018,000/XXX|Nov:2018,000/XXX|\n",
      "10                   Dec:2018,000/XXX|Nov:2018,000/XXX|\n",
      "11                   Dec:2018,000/XXX|Nov:2018,000/XXX|\n",
      "12                   Dec:2018,000/XXX|Nov:2018,000/XXX|\n",
      "13                   Dec:2018,000/XXX|Nov:2018,000/XXX|\n",
      "14    Apr:2019,000/XXX|Mar:2019,000/XXX|Feb:2019,000...\n",
      "15    Apr:2019,000/XXX|Mar:2019,000/XXX|Feb:2019,000...\n",
      "16    Mar:2014,000/STD|Feb:2014,000/STD|Jan:2014,000...\n",
      "17    Dec:2010,180/LOS|Nov:2010,150/XXX|Oct:2010,XXX...\n",
      "18    Jul:2014,000/XXX|Jun:2014,DDD/DDD|May:2014,DDD...\n",
      "19    Nov:2018,000/XXX|Oct:2018,000/XXX|Sep:2018,000...\n",
      "20    Aug:2018,000/XXX|Jul:2018,000/XXX|Jun:2018,000...\n",
      "21    Jul:2016,000/XXX|Jun:2016,000/XXX|May:2016,000...\n",
      "22    Apr:2019,000/XXX|Mar:2019,000/XXX|Feb:2019,000...\n",
      "23    Jan:2011,120/XXX|Dec:2010,090/XXX|Nov:2010,060...\n",
      "24    Oct:2018,000/XXX|Sep:2018,000/XXX|Aug:2018,000...\n",
      "25    Oct:2018,000/XXX|Sep:2018,000/XXX|Aug:2018,000...\n",
      "26    Apr:2014,000/XXX|Mar:2014,XXX/XXX|Feb:2014,XXX...\n",
      "27    Apr:2019,000/XXX|Mar:2019,000/XXX|Feb:2019,000...\n",
      "Name: Combined_Payment_History, dtype: object\n"
     ]
    }
   ],
   "source": [
    "print(xmlToDf.Combined_Payment_History)"
   ]
  },
  {
   "cell_type": "code",
   "execution_count": 16,
   "id": "717da814",
   "metadata": {
    "scrolled": true
   },
   "outputs": [
    {
     "name": "stdout",
     "output_type": "stream",
     "text": [
      "['Jun                         2017                         000                         XXX                         May                         2017                         000                         XXX                         Apr                         2017                         000                         XXX                         ', 'May                         2019                         000                         XXX                         Apr                         2019                         000                         XXX                         Mar                         2019                         000                         XXX                         Feb                         2019                         000                         XXX                         Jan                         2019                         000                         XXX                         Dec                         2018                         000                         XXX                         Nov                         2018                         000                         XXX                         Oct                         2018                         000                         XXX                         Sep                         2018                         000                         XXX                         Aug                         2018                         000                         XXX                         Jul                         2018                         000                         XXX                         Jun                         2018                         000                         XXX                         ', 'Apr                         2019                         000                         STD                         Mar                         2019                         DDD                         DDD                         Feb                         2019                         000                         STD                         Jan                         2019                         000                         STD                         Dec                         2018                         DDD                         DDD                         Nov                         2018                         000                         STD                         Oct                         2018                         000                         STD                         Sep                         2018                         000                         STD                         Aug                         2018                         XXX                         XXX                         ', 'Jan                         2014                         XXX                         XXX                         Dec                         2013                         XXX                         XXX                         Nov                         2013                         XXX                         XXX                         Oct                         2013                         XXX                         XXX                         Sep                         2013                         XXX                         XXX                         Aug                         2013                         XXX                         XXX                         ', 'Sep                         2017                         000                         XXX                         Aug                         2017                         000                         XXX                         Jul                         2017                         000                         XXX                         Jun                         2017                         000                         XXX                         May                         2017                         000                         XXX                         Apr                         2017                         000                         XXX                         Mar                         2017                         000                         XXX                         Feb                         2017                         000                         XXX                         Jan                         2017                         000                         XXX                         Dec                         2016                         000                         XXX                         Nov                         2016                         000                         XXX                         Oct                         2016                         000                         XXX                         Sep                         2016                         000                         XXX                         ', 'Aug                         2012                         000                         STD                         Jul                         2012                         000                         STD                         Jun                         2012                         000                         STD                         May                         2012                         000                         STD                         Apr                         2012                         000                         STD                         Mar                         2012                         DDD                         DDD                         Feb                         2012                         000                         STD                         Jan                         2012                         000                         STD                         Dec                         2011                         000                         STD                         ', 'Aug                         2012                         000                         STD                         Jul                         2012                         000                         STD                         Jun                         2012                         000                         STD                         May                         2012                         000                         STD                         Apr                         2012                         000                         STD                         Mar                         2012                         DDD                         DDD                         Feb                         2012                         000                         STD                         Jan                         2012                         000                         STD                         Dec                         2011                         000                         STD                         ', 'Apr                         2019                         000                         XXX                         Mar                         2019                         000                         XXX                         ', 'Apr                         2019                         000                         XXX                         Mar                         2019                         000                         XXX                         ', 'Dec                         2018                         000                         XXX                         Nov                         2018                         000                         XXX                         ', 'Dec                         2018                         000                         XXX                         Nov                         2018                         000                         XXX                         ', 'Dec                         2018                         000                         XXX                         Nov                         2018                         000                         XXX                         ', 'Dec                         2018                         000                         XXX                         Nov                         2018                         000                         XXX                         ', 'Dec                         2018                         000                         XXX                         Nov                         2018                         000                         XXX                         ', 'Apr                         2019                         000                         XXX                         Mar                         2019                         000                         XXX                         Feb                         2019                         000                         XXX                         Jan                         2019                         000                         XXX                         Dec                         2018                         000                         XXX                         Nov                         2018                         000                         XXX                         Oct                         2018                         000                         XXX                         Sep                         2018                         000                         XXX                         Aug                         2018                         000                         XXX                         Jul                         2018                         000                         XXX                         Jun                         2018                         000                         XXX                         ', 'Apr                         2019                         000                         XXX                         Mar                         2019                         000                         XXX                         Feb                         2019                         000                         XXX                         Jan                         2019                         000                         XXX                         Dec                         2018                         DDD                         DDD                         Nov                         2018                         000                         XXX                         Oct                         2018                         000                         XXX                         Sep                         2018                         000                         XXX                         Aug                         2018                         XXX                         XXX                         Jul                         2018                         XXX                         XXX                         Jun                         2018                         XXX                         XXX                         May                         2018                         XXX                         XXX                         Apr                         2018                         XXX                         XXX                         Mar                         2018                         XXX                         XXX                         Feb                         2018                         XXX                         XXX                         Jan                         2018                         XXX                         XXX                         ', 'Mar                         2014                         000                         STD                         Feb                         2014                         000                         STD                         Jan                         2014                         000                         STD                         Dec                         2013                         000                         STD                         Nov                         2013                         000                         STD                         Oct                         2013                         DDD                         DDD                         Sep                         2013                         000                         STD                         Aug                         2013                         000                         STD                         Jul                         2013                         000                         STD                         Jun                         2013                         000                         STD                         May                         2013                         000                         STD                         Apr                         2013                         000                         STD                         Mar                         2013                         000                         STD                         Feb                         2013                         000                         STD                         Jan                         2013                         000                         STD                         Dec                         2012                         000                         STD                         Nov                         2012                         000                         STD                         Oct                         2012                         000                         STD                         Sep                         2012                         000                         STD                         Aug                         2012                         000                         STD                         ', 'Dec                         2010                         180                         LOS                         Nov                         2010                         150                         XXX                         Oct                         2010                         XXX                         XXX                         Sep                         2010                         XXX                         XXX                         Aug                         2010                         XXX                         XXX                         Jul                         2010                         XXX                         XXX                         Jun                         2010                         XXX                         XXX                         May                         2010                         XXX                         XXX                         Apr                         2010                         XXX                         XXX                         Mar                         2010                         XXX                         XXX                         Feb                         2010                         XXX                         XXX                         Jan                         2010                         XXX                         XXX                         Dec                         2009                         XXX                         XXX                         Nov                         2009                         XXX                         XXX                         Oct                         2009                         XXX                         XXX                         Sep                         2009                         XXX                         XXX                         Aug                         2009                         XXX                         XXX                         Jul                         2009                         XXX                         XXX                         Jun                         2009                         XXX                         XXX                         May                         2009                         XXX                         XXX                         Apr                         2009                         XXX                         XXX                         Mar                         2009                         XXX                         XXX                         Feb                         2009                         XXX                         XXX                         Jan                         2009                         XXX                         XXX                         Dec                         2008                         XXX                         XXX                         Nov                         2008                         XXX                         XXX                         Oct                         2008                         XXX                         XXX                         Sep                         2008                         XXX                         XXX                         ', 'Jul                         2014                         000                         XXX                         Jun                         2014                         DDD                         DDD                         May                         2014                         DDD                         DDD                         Apr                         2014                         738                         XXX                         Mar                         2014                         DDD                         DDD                         Feb                         2014                         DDD                         DDD                         Jan                         2014                         DDD                         DDD                         Dec                         2013                         DDD                         DDD                         Nov                         2013                         DDD                         DDD                         Oct                         2013                         DDD                         DDD                         Sep                         2013                         DDD                         DDD                         Aug                         2013                         DDD                         DDD                         Jul                         2013                         DDD                         DDD                         Jun                         2013                         DDD                         DDD                         May                         2013                         DDD                         DDD                         Apr                         2013                         DDD                         DDD                         Mar                         2013                         DDD                         DDD                         Feb                         2013                         DDD                         DDD                         Jan                         2013                         DDD                         DDD                         Dec                         2012                         DDD                         DDD                         Nov                         2012                         DDD                         DDD                         Oct                         2012                         DDD                         DDD                         Sep                         2012                         DDD                         DDD                         Aug                         2012                         DDD                         DDD                         Jul                         2012                         DDD                         DDD                         Jun                         2012                         DDD                         DDD                         May                         2012                         DDD                         DDD                         Apr                         2012                         DDD                         DDD                         Mar                         2012                         000                         XXX                         Feb                         2012                         XXX                         XXX                         Jan                         2012                         XXX                         XXX                         Dec                         2011                         XXX                         XXX                         Nov                         2011                         XXX                         XXX                         ', 'Nov                         2018                         000                         XXX                         Oct                         2018                         000                         XXX                         Sep                         2018                         000                         XXX                         Aug                         2018                         XXX                         XXX                         Jul                         2018                         XXX                         XXX                         Jun                         2018                         XXX                         XXX                         May                         2018                         XXX                         XXX                         Apr                         2018                         XXX                         XXX                         Mar                         2018                         XXX                         XXX                         Feb                         2018                         XXX                         XXX                         Jan                         2018                         XXX                         XXX                         ', 'Aug                         2018                         000                         XXX                         Jul                         2018                         000                         XXX                         Jun                         2018                         000                         XXX                         May                         2018                         001                         XXX                         Apr                         2018                         001                         XXX                         Mar                         2018                         000                         XXX                         Feb                         2018                         000                         XXX                         Jan                         2018                         DDD                         DDD                         Dec                         2017                         000                         XXX                         Nov                         2017                         000                         XXX                         Oct                         2017                         000                         XXX                         Sep                         2017                         001                         XXX                         Aug                         2017                         000                         XXX                         Jul                         2017                         001                         XXX                         Jun                         2017                         001                         XXX                         May                         2017                         000                         XXX                         Apr                         2017                         000                         XXX                         Mar                         2017                         000                         XXX                         Feb                         2017                         000                         XXX                         Jan                         2017                         000                         XXX                         Dec                         2016                         000                         XXX                         Nov                         2016                         000                         XXX                         ', 'Jul                         2016                         000                         XXX                         Jun                         2016                         000                         XXX                         May                         2016                         000                         XXX                         Apr                         2016                         000                         XXX                         Mar                         2016                         000                         XXX                         Feb                         2016                         000                         XXX                         Jan                         2016                         060                         XXX                         Dec                         2015                         060                         XXX                         Nov                         2015                         028                         XXX                         Oct                         2015                         000                         XXX                         Sep                         2015                         000                         XXX                         Aug                         2015                         000                         XXX                         Jul                         2015                         000                         XXX                         Jun                         2015                         000                         XXX                         May                         2015                         000                         XXX                         Apr                         2015                         000                         XXX                         Mar                         2015                         000                         XXX                         Feb                         2015                         000                         XXX                         Jan                         2015                         000                         XXX                         Dec                         2014                         000                         XXX                         Nov                         2014                         000                         XXX                         Oct                         2014                         000                         XXX                         Sep                         2014                         000                         XXX                         Aug                         2014                         000                         XXX                         Jul                         2014                         000                         XXX                         Jun                         2014                         000                         XXX                         May                         2014                         000                         XXX                         Apr                         2014                         000                         XXX                         Mar                         2014                         000                         XXX                         Feb                         2014                         000                         XXX                         Jan                         2014                         000                         XXX                         Dec                         2013                         000                         XXX                         Nov                         2013                         000                         XXX                         Oct                         2013                         000                         XXX                         Sep                         2013                         000                         XXX                         Aug                         2013                         XXX                         XXX                         ', 'Apr                         2019                         000                         XXX                         Mar                         2019                         000                         XXX                         Feb                         2019                         000                         XXX                         Jan                         2019                         000                         XXX                         Dec                         2018                         000                         XXX                         Nov                         2018                         000                         XXX                         Oct                         2018                         000                         XXX                         Sep                         2018                         000                         XXX                         Aug                         2018                         000                         XXX                         Jul                         2018                         000                         XXX                         ', 'Jan                         2011                         120                         XXX                         Dec                         2010                         090                         XXX                         Nov                         2010                         060                         XXX                         Oct                         2010                         XXX                         XXX                         Sep                         2010                         XXX                         XXX                         Aug                         2010                         XXX                         XXX                         Jul                         2010                         XXX                         XXX                         Jun                         2010                         XXX                         XXX                         May                         2010                         XXX                         XXX                         Apr                         2010                         XXX                         XXX                         Mar                         2010                         XXX                         XXX                         Feb                         2010                         XXX                         XXX                         Jan                         2010                         XXX                         XXX                         Dec                         2009                         XXX                         XXX                         Nov                         2009                         XXX                         XXX                         Oct                         2009                         XXX                         XXX                         Sep                         2009                         XXX                         XXX                         Aug                         2009                         XXX                         XXX                         Jul                         2009                         XXX                         XXX                         Jun                         2009                         XXX                         XXX                         May                         2009                         XXX                         XXX                         Apr                         2009                         XXX                         XXX                         Mar                         2009                         XXX                         XXX                         Feb                         2009                         XXX                         XXX                         Jan                         2009                         XXX                         XXX                         Dec                         2008                         XXX                         XXX                         Nov                         2008                         XXX                         XXX                         Oct                         2008                         XXX                         XXX                         Sep                         2008                         XXX                         XXX                         Aug                         2008                         XXX                         XXX                         Jul                         2008                         XXX                         XXX                         Jun                         2008                         XXX                         XXX                         May                         2008                         XXX                         XXX                         Apr                         2008                         XXX                         XXX                         Mar                         2008                         XXX                         XXX                         Feb                         2008                         XXX                         XXX                         ', 'Oct                         2018                         000                         XXX                         Sep                         2018                         000                         XXX                         Aug                         2018                         000                         XXX                         Jul                         2018                         000                         XXX                         Jun                         2018                         000                         XXX                         May                         2018                         000                         XXX                         Apr                         2018                         000                         XXX                         Mar                         2018                         000                         XXX                         Feb                         2018                         000                         XXX                         Jan                         2018                         000                         XXX                         Dec                         2017                         000                         XXX                         ', 'Oct                         2018                         000                         XXX                         Sep                         2018                         000                         XXX                         Aug                         2018                         000                         XXX                         Jul                         2018                         000                         XXX                         Jun                         2018                         000                         XXX                         May                         2018                         000                         XXX                         Apr                         2018                         000                         XXX                         Mar                         2018                         000                         XXX                         Feb                         2018                         000                         XXX                         Jan                         2018                         000                         XXX                         Dec                         2017                         000                         XXX                         ', 'Apr                         2014                         000                         XXX                         Mar                         2014                         XXX                         XXX                         Feb                         2014                         XXX                         XXX                         Jan                         2014                         XXX                         XXX                         Dec                         2013                         XXX                         XXX                         Nov                         2013                         XXX                         XXX                         Oct                         2013                         XXX                         XXX                         Sep                         2013                         XXX                         XXX                         Aug                         2013                         XXX                         XXX                         Jul                         2013                         XXX                         XXX                         Jun                         2013                         XXX                         XXX                         May                         2013                         XXX                         XXX                         Apr                         2013                         XXX                         XXX                         Mar                         2013                         XXX                         XXX                         Feb                         2013                         XXX                         XXX                         Jan                         2013                         XXX                         XXX                         Dec                         2012                         XXX                         XXX                         Nov                         2012                         XXX                         XXX                         Oct                         2012                         XXX                         XXX                         Sep                         2012                         XXX                         XXX                         Aug                         2012                         XXX                         XXX                         Jul                         2012                         XXX                         XXX                         Jun                         2012                         XXX                         XXX                         May                         2012                         XXX                         XXX                         Apr                         2012                         XXX                         XXX                         Mar                         2012                         XXX                         XXX                         Feb                         2012                         XXX                         XXX                         Jan                         2012                         XXX                         XXX                         Dec                         2011                         XXX                         XXX                         Nov                         2011                         XXX                         XXX                         Oct                         2011                         XXX                         XXX                         Sep                         2011                         XXX                         XXX                         Aug                         2011                         XXX                         XXX                         Jul                         2011                         XXX                         XXX                         Jun                         2011                         XXX                         XXX                         May                         2011                         XXX                         XXX                         ', 'Apr                         2019                         000                         XXX                         Mar                         2019                         000                         XXX                         Feb                         2019                         000                         XXX                         Jan                         2019                         000                         XXX                         Dec                         2018                         000                         XXX                         Nov                         2018                         000                         XXX                         Oct                         2018                         000                         XXX                         Sep                         2018                         000                         XXX                         Aug                         2018                         000                         XXX                         Jul                         2018                         000                         XXX                         Jun                         2018                         000                         XXX                         May                         2018                         000                         XXX                         Apr                         2018                         000                         XXX                         Mar                         2018                         000                         XXX                         Feb                         2018                         000                         XXX                         Jan                         2018                         000                         XXX                         Dec                         2017                         000                         XXX                         Nov                         2017                         000                         XXX                         Oct                         2017                         000                         XXX                         Sep                         2017                         000                         XXX                         Aug                         2017                         000                         XXX                         Jul                         2017                         000                         XXX                         Jun                         2017                         000                         XXX                         May                         2017                         000                         XXX                         Apr                         2017                         000                         XXX                         Mar                         2017                         000                         XXX                         Feb                         2017                         000                         XXX                         Jan                         2017                         000                         XXX                         Dec                         2016                         000                         XXX                         Nov                         2016                         000                         XXX                         Oct                         2016                         000                         XXX                         Sep                         2016                         000                         XXX                         Aug                         2016                         000                         XXX                         Jul                         2016                         XXX                         XXX                         Jun                         2016                         XXX                         XXX                         May                         2016                         XXX                         XXX                         ']\n"
     ]
    }
   ],
   "source": [
    "import string\n",
    "words = xmlToDf.Combined_Payment_History\n",
    "new_words = []\n",
    "for word in words:\n",
    "    for letter in word:\n",
    "        if letter in string.punctuation:           \n",
    "            word = word.replace(letter,\"                         \")   \n",
    "    new_words.append(word) \n",
    "\n",
    "print(new_words)"
   ]
  },
  {
   "cell_type": "code",
   "execution_count": 2,
   "id": "9ab05904",
   "metadata": {},
   "outputs": [],
   "source": [
    "#In this way we can separate all punctuation from Combined Payment History detail of every customer \n"
   ]
  },
  {
   "cell_type": "code",
   "execution_count": 4,
   "id": "dffe96cd",
   "metadata": {},
   "outputs": [],
   "source": [
    "#After Separting we can filter 30+ DPD by applying    if disbursed amt % 30 == 0:\n",
    "       # print(\"DPD\")                                        \n",
    "       # continue\n"
   ]
  },
  {
   "cell_type": "code",
   "execution_count": null,
   "id": "07074c9b",
   "metadata": {},
   "outputs": [],
   "source": []
  }
 ],
 "metadata": {
  "kernelspec": {
   "display_name": "Python 3 (ipykernel)",
   "language": "python",
   "name": "python3"
  },
  "language_info": {
   "codemirror_mode": {
    "name": "ipython",
    "version": 3
   },
   "file_extension": ".py",
   "mimetype": "text/x-python",
   "name": "python",
   "nbconvert_exporter": "python",
   "pygments_lexer": "ipython3",
   "version": "3.10.4"
  }
 },
 "nbformat": 4,
 "nbformat_minor": 5
}
